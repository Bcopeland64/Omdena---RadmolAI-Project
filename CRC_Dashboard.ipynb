{
 "cells": [
  {
   "cell_type": "code",
   "execution_count": 1,
   "metadata": {
    "colab": {
     "base_uri": "https://localhost:8080/"
    },
    "id": "OLDkzlhoi_wx",
    "outputId": "b917e04d-7fd0-4d1d-9a96-2a66ee0c89b3"
   },
   "outputs": [
    {
     "name": "stderr",
     "output_type": "stream",
     "text": [
      "/home/brandon/anaconda3/lib/python3.9/site-packages/IPython/core/interactiveshell.py:3444: DtypeWarning: Columns (24,27) have mixed types.Specify dtype option on import or set low_memory=False.\n",
      "  exec(code_obj, self.user_global_ns, self.user_ns)\n"
     ]
    },
    {
     "data": {
      "text/html": [
       "<h1><center>CRC Dashboard using Voila</center></h1>"
      ],
      "text/plain": [
       "<IPython.core.display.HTML object>"
      ]
     },
     "metadata": {},
     "output_type": "display_data"
    }
   ],
   "source": [
    "import pandas as pd\n",
    "pd.options.plotting.backend = \"plotly\"\n",
    "import numpy as np\n",
    "data = pd.read_csv(\"/home/brandon/Omdena/Omdena Radamol/Project Data/CRC_original_dataset.csv\")\n",
    "from IPython.core.display import display, HTML\n",
    "\n",
    "display(HTML('<h1><center>CRC Dashboard using Voila</center></h1>'))\n"
   ]
  },
  {
   "cell_type": "code",
   "execution_count": 2,
   "metadata": {
    "id": "x1ozxhHxiT_-"
   },
   "outputs": [],
   "source": [
    "#Function for cleaning a dataset from NaN, Inf, and missing data\n",
    "def clean_dataset(df):\n",
    "    assert isinstance(data, pd.DataFrame), \"df needs to be a pd.DataFrame\"\n",
    "    data.fillna(0, inplace=True)\n",
    "    indices_to_keep = ~data.isin([np.nan, np.inf, -np.inf]).any(1)\n",
    "    return data[indices_to_keep].astype(np.float64)"
   ]
  },
  {
   "cell_type": "code",
   "execution_count": 3,
   "metadata": {
    "id": "EHv0gDuggshw"
   },
   "outputs": [],
   "source": [
    "#Feature Extraction of top 20 features\n",
    "\n",
    "from sklearn.feature_selection import SelectKBest\n",
    "from sklearn.feature_selection import chi2\n",
    "X = data.iloc[:,0:20]  \n",
    "y = data.iloc[:,-1]"
   ]
  },
  {
   "cell_type": "code",
   "execution_count": 4,
   "metadata": {
    "colab": {
     "base_uri": "https://localhost:8080/",
     "height": 317
    },
    "id": "zXWm1YsFjTHS",
    "outputId": "0809f02d-937d-4b76-a863-9cf946476273",
    "scrolled": false
   },
   "outputs": [
    {
     "data": {
      "text/html": [
       "<p><h3><center>This is a basic dashboard to high light features of the Colorectal Dataset with Dataframe</p></h3></center>"
      ],
      "text/plain": [
       "<IPython.core.display.HTML object>"
      ]
     },
     "metadata": {},
     "output_type": "display_data"
    }
   ],
   "source": [
    "display(HTML('<p><h3><center>This is a basic dashboard to high light features of the Colorectal Dataset with Dataframe</p></h3></center>'))\n"
   ]
  },
  {
   "cell_type": "code",
   "execution_count": 5,
   "metadata": {},
   "outputs": [
    {
     "data": {
      "text/html": [
       "<div><div id=679cc04f-f93a-4a95-96dc-2356c6395d37 style=\"display:none; background-color:#9D6CFF; color:white; width:200px; height:30px; padding-left:5px; border-radius:4px; flex-direction:row; justify-content:space-around; align-items:center;\" onmouseover=\"this.style.backgroundColor='#BA9BF8'\" onmouseout=\"this.style.backgroundColor='#9D6CFF'\" onclick=\"window.commands?.execute('create-mitosheet-from-dataframe-output');\">See Full Dataframe in Mito</div> <script> if (window.commands.hasCommand('create-mitosheet-from-dataframe-output')) document.getElementById('679cc04f-f93a-4a95-96dc-2356c6395d37').style.display = 'flex' </script> <table border=\"1\" class=\"dataframe\">\n",
       "  <thead>\n",
       "    <tr style=\"text-align: right;\">\n",
       "      <th></th>\n",
       "      <th>Unnamed: 0</th>\n",
       "      <th>abd_tend_score</th>\n",
       "      <th>PR_score</th>\n",
       "      <th>age_group</th>\n",
       "      <th>Case_Control</th>\n",
       "      <th>code_D11_1st</th>\n",
       "      <th>code_D11_2nd</th>\n",
       "      <th>code_D12_1st</th>\n",
       "      <th>code_D12_2nd</th>\n",
       "      <th>code_T03_1st</th>\n",
       "      <th>...</th>\n",
       "      <th>diarrhoea_last_year</th>\n",
       "      <th>earliest_rectal_bleeding</th>\n",
       "      <th>rectal_bleeding_last_year</th>\n",
       "      <th>earliest_mild_anaemia</th>\n",
       "      <th>mild_anaemia_last_year</th>\n",
       "      <th>earliest_severe_anaemia</th>\n",
       "      <th>severe_anaemia_last_year</th>\n",
       "      <th>earliest_FOB</th>\n",
       "      <th>FOB_last_year</th>\n",
       "      <th>diarrhoea_duration</th>\n",
       "    </tr>\n",
       "  </thead>\n",
       "  <tbody>\n",
       "    <tr>\n",
       "      <th>0</th>\n",
       "      <td>0</td>\n",
       "      <td>0.0</td>\n",
       "      <td>0.0</td>\n",
       "      <td>1.0</td>\n",
       "      <td>0</td>\n",
       "      <td>1.0</td>\n",
       "      <td>1.0</td>\n",
       "      <td>0.0</td>\n",
       "      <td>0.0</td>\n",
       "      <td>0.0</td>\n",
       "      <td>...</td>\n",
       "      <td>0.0</td>\n",
       "      <td>0.0</td>\n",
       "      <td>0.0</td>\n",
       "      <td>NaN</td>\n",
       "      <td>0.0</td>\n",
       "      <td>NaN</td>\n",
       "      <td>0.0</td>\n",
       "      <td>NaN</td>\n",
       "      <td>0.0</td>\n",
       "      <td>22.0</td>\n",
       "    </tr>\n",
       "    <tr>\n",
       "      <th>1</th>\n",
       "      <td>1</td>\n",
       "      <td>0.0</td>\n",
       "      <td>0.0</td>\n",
       "      <td>1.0</td>\n",
       "      <td>0</td>\n",
       "      <td>0.0</td>\n",
       "      <td>0.0</td>\n",
       "      <td>0.0</td>\n",
       "      <td>0.0</td>\n",
       "      <td>0.0</td>\n",
       "      <td>...</td>\n",
       "      <td>0.0</td>\n",
       "      <td>0.0</td>\n",
       "      <td>0.0</td>\n",
       "      <td>NaN</td>\n",
       "      <td>0.0</td>\n",
       "      <td>NaN</td>\n",
       "      <td>0.0</td>\n",
       "      <td>NaN</td>\n",
       "      <td>0.0</td>\n",
       "      <td>NaN</td>\n",
       "    </tr>\n",
       "    <tr>\n",
       "      <th>2</th>\n",
       "      <td>2</td>\n",
       "      <td>0.0</td>\n",
       "      <td>0.0</td>\n",
       "      <td>2.0</td>\n",
       "      <td>0</td>\n",
       "      <td>0.0</td>\n",
       "      <td>0.0</td>\n",
       "      <td>0.0</td>\n",
       "      <td>0.0</td>\n",
       "      <td>0.0</td>\n",
       "      <td>...</td>\n",
       "      <td>0.0</td>\n",
       "      <td>0.0</td>\n",
       "      <td>0.0</td>\n",
       "      <td>NaN</td>\n",
       "      <td>0.0</td>\n",
       "      <td>NaN</td>\n",
       "      <td>0.0</td>\n",
       "      <td>NaN</td>\n",
       "      <td>0.0</td>\n",
       "      <td>NaN</td>\n",
       "    </tr>\n",
       "    <tr>\n",
       "      <th>3</th>\n",
       "      <td>3</td>\n",
       "      <td>0.0</td>\n",
       "      <td>0.0</td>\n",
       "      <td>1.0</td>\n",
       "      <td>0</td>\n",
       "      <td>0.0</td>\n",
       "      <td>0.0</td>\n",
       "      <td>0.0</td>\n",
       "      <td>0.0</td>\n",
       "      <td>0.0</td>\n",
       "      <td>...</td>\n",
       "      <td>0.0</td>\n",
       "      <td>0.0</td>\n",
       "      <td>0.0</td>\n",
       "      <td>NaN</td>\n",
       "      <td>0.0</td>\n",
       "      <td>NaN</td>\n",
       "      <td>0.0</td>\n",
       "      <td>NaN</td>\n",
       "      <td>0.0</td>\n",
       "      <td>NaN</td>\n",
       "    </tr>\n",
       "    <tr>\n",
       "      <th>4</th>\n",
       "      <td>4</td>\n",
       "      <td>0.0</td>\n",
       "      <td>0.0</td>\n",
       "      <td>2.0</td>\n",
       "      <td>0</td>\n",
       "      <td>0.0</td>\n",
       "      <td>0.0</td>\n",
       "      <td>0.0</td>\n",
       "      <td>0.0</td>\n",
       "      <td>0.0</td>\n",
       "      <td>...</td>\n",
       "      <td>0.0</td>\n",
       "      <td>0.0</td>\n",
       "      <td>0.0</td>\n",
       "      <td>NaN</td>\n",
       "      <td>0.0</td>\n",
       "      <td>NaN</td>\n",
       "      <td>0.0</td>\n",
       "      <td>NaN</td>\n",
       "      <td>0.0</td>\n",
       "      <td>NaN</td>\n",
       "    </tr>\n",
       "  </tbody>\n",
       "</table></div>"
      ],
      "text/plain": [
       "   Unnamed: 0  abd_tend_score  PR_score  age_group  Case_Control  \\\n",
       "0           0             0.0       0.0        1.0             0   \n",
       "1           1             0.0       0.0        1.0             0   \n",
       "2           2             0.0       0.0        2.0             0   \n",
       "3           3             0.0       0.0        1.0             0   \n",
       "4           4             0.0       0.0        2.0             0   \n",
       "\n",
       "   code_D11_1st  code_D11_2nd  code_D12_1st  code_D12_2nd  code_T03_1st  ...  \\\n",
       "0           1.0           1.0           0.0           0.0           0.0  ...   \n",
       "1           0.0           0.0           0.0           0.0           0.0  ...   \n",
       "2           0.0           0.0           0.0           0.0           0.0  ...   \n",
       "3           0.0           0.0           0.0           0.0           0.0  ...   \n",
       "4           0.0           0.0           0.0           0.0           0.0  ...   \n",
       "\n",
       "   diarrhoea_last_year  earliest_rectal_bleeding  rectal_bleeding_last_year  \\\n",
       "0                  0.0                       0.0                        0.0   \n",
       "1                  0.0                       0.0                        0.0   \n",
       "2                  0.0                       0.0                        0.0   \n",
       "3                  0.0                       0.0                        0.0   \n",
       "4                  0.0                       0.0                        0.0   \n",
       "\n",
       "   earliest_mild_anaemia  mild_anaemia_last_year  earliest_severe_anaemia  \\\n",
       "0                    NaN                     0.0                      NaN   \n",
       "1                    NaN                     0.0                      NaN   \n",
       "2                    NaN                     0.0                      NaN   \n",
       "3                    NaN                     0.0                      NaN   \n",
       "4                    NaN                     0.0                      NaN   \n",
       "\n",
       "   severe_anaemia_last_year  earliest_FOB  FOB_last_year  diarrhoea_duration  \n",
       "0                       0.0           NaN            0.0                22.0  \n",
       "1                       0.0           NaN            0.0                 NaN  \n",
       "2                       0.0           NaN            0.0                 NaN  \n",
       "3                       0.0           NaN            0.0                 NaN  \n",
       "4                       0.0           NaN            0.0                 NaN  \n",
       "\n",
       "[5 rows x 1259 columns]"
      ]
     },
     "execution_count": 5,
     "metadata": {},
     "output_type": "execute_result"
    }
   ],
   "source": [
    "data.head()"
   ]
  },
  {
   "cell_type": "code",
   "execution_count": null,
   "metadata": {},
   "outputs": [],
   "source": []
  },
  {
   "cell_type": "code",
   "execution_count": 6,
   "metadata": {
    "id": "QkkG_aCaljHa"
   },
   "outputs": [],
   "source": [
    "# Replace infinite updated data with nan\n",
    "data.replace([np.inf, -np.inf], np.nan, inplace=True)\n",
    "# Drop rows with NaN\n",
    "data.fillna(0, inplace=True)"
   ]
  },
  {
   "cell_type": "code",
   "execution_count": 7,
   "metadata": {
    "id": "DfpFO1wZhiu7"
   },
   "outputs": [],
   "source": [
    "#Extracts Features\n",
    "bestfeatures = SelectKBest(score_func=chi2, k=20)\n",
    "fit = bestfeatures.fit(X,y)"
   ]
  },
  {
   "cell_type": "code",
   "execution_count": 8,
   "metadata": {
    "id": "uACME8Wbhm7N"
   },
   "outputs": [],
   "source": [
    "#Scores each feature\n",
    "dfscores = pd.DataFrame(fit.scores_)\n",
    "dfcolumns = pd.DataFrame(X.columns)"
   ]
  },
  {
   "cell_type": "code",
   "execution_count": 9,
   "metadata": {
    "id": "rQCynvCsl0Vt"
   },
   "outputs": [],
   "source": [
    "featureScores = pd.concat([dfcolumns,dfscores],axis=1)\n",
    "featureScores.columns = ['Specs','Score']"
   ]
  },
  {
   "cell_type": "code",
   "execution_count": 10,
   "metadata": {
    "colab": {
     "base_uri": "https://localhost:8080/",
     "height": 677
    },
    "id": "FjyDEhAOl4-8",
    "outputId": "6b82654d-ca58-4a07-850c-5380dcc4a77f"
   },
   "outputs": [
    {
     "data": {
      "text/html": [
       "<p><h3><center>Feature Scores</center></h3></p>"
      ],
      "text/plain": [
       "<IPython.core.display.HTML object>"
      ]
     },
     "metadata": {},
     "output_type": "display_data"
    },
    {
     "data": {
      "text/html": [
       "<div><div id=47624373-8030-46d0-ad02-ba92bd782b72 style=\"display:none; background-color:#9D6CFF; color:white; width:200px; height:30px; padding-left:5px; border-radius:4px; flex-direction:row; justify-content:space-around; align-items:center;\" onmouseover=\"this.style.backgroundColor='#BA9BF8'\" onmouseout=\"this.style.backgroundColor='#9D6CFF'\" onclick=\"window.commands?.execute('create-mitosheet-from-dataframe-output');\">See Full Dataframe in Mito</div> <script> if (window.commands.hasCommand('create-mitosheet-from-dataframe-output')) document.getElementById('47624373-8030-46d0-ad02-ba92bd782b72').style.display = 'flex' </script> <table border=\"1\" class=\"dataframe\">\n",
       "  <thead>\n",
       "    <tr style=\"text-align: right;\">\n",
       "      <th></th>\n",
       "      <th>Specs</th>\n",
       "      <th>Score</th>\n",
       "    </tr>\n",
       "  </thead>\n",
       "  <tbody>\n",
       "    <tr>\n",
       "      <th>0</th>\n",
       "      <td>Unnamed: 0</td>\n",
       "      <td>37698.608650</td>\n",
       "    </tr>\n",
       "    <tr>\n",
       "      <th>1</th>\n",
       "      <td>abd_tend_score</td>\n",
       "      <td>186.484382</td>\n",
       "    </tr>\n",
       "    <tr>\n",
       "      <th>2</th>\n",
       "      <td>PR_score</td>\n",
       "      <td>792.877476</td>\n",
       "    </tr>\n",
       "    <tr>\n",
       "      <th>3</th>\n",
       "      <td>age_group</td>\n",
       "      <td>9.547794</td>\n",
       "    </tr>\n",
       "    <tr>\n",
       "      <th>4</th>\n",
       "      <td>Case_Control</td>\n",
       "      <td>191.448419</td>\n",
       "    </tr>\n",
       "    <tr>\n",
       "      <th>...</th>\n",
       "      <td>...</td>\n",
       "      <td>...</td>\n",
       "    </tr>\n",
       "    <tr>\n",
       "      <th>15</th>\n",
       "      <td>code_D16_1st</td>\n",
       "      <td>156.523950</td>\n",
       "    </tr>\n",
       "    <tr>\n",
       "      <th>16</th>\n",
       "      <td>code_D16_2nd</td>\n",
       "      <td>222.390054</td>\n",
       "    </tr>\n",
       "    <tr>\n",
       "      <th>17</th>\n",
       "      <td>haemoglobin_3_categories</td>\n",
       "      <td>170.329937</td>\n",
       "    </tr>\n",
       "    <tr>\n",
       "      <th>18</th>\n",
       "      <td>patientid</td>\n",
       "      <td>115643.937269</td>\n",
       "    </tr>\n",
       "    <tr>\n",
       "      <th>19</th>\n",
       "      <td>group_code</td>\n",
       "      <td>9688.461251</td>\n",
       "    </tr>\n",
       "  </tbody>\n",
       "</table></div>"
      ],
      "text/plain": [
       "                       Specs          Score\n",
       "0                 Unnamed: 0   37698.608650\n",
       "1             abd_tend_score     186.484382\n",
       "2                   PR_score     792.877476\n",
       "3                  age_group       9.547794\n",
       "4               Case_Control     191.448419\n",
       "5               code_D11_1st     552.919606\n",
       "6               code_D11_2nd    1989.000000\n",
       "7               code_D12_1st     105.953738\n",
       "8               code_D12_2nd     120.154047\n",
       "9               code_T03_1st     203.843976\n",
       "10              code_T03_2nd     272.766022\n",
       "11              code_T08_1st     224.751971\n",
       "12              code_T08_2nd     287.320142\n",
       "13            abdominal_pain     209.749717\n",
       "14  abdominal_pain_frequency     848.692601\n",
       "15              code_D16_1st     156.523950\n",
       "16              code_D16_2nd     222.390054\n",
       "17  haemoglobin_3_categories     170.329937\n",
       "18                 patientid  115643.937269\n",
       "19                group_code    9688.461251"
      ]
     },
     "execution_count": 10,
     "metadata": {},
     "output_type": "execute_result"
    }
   ],
   "source": [
    "display(HTML('<p><h3><center>Feature Scores</center></h3></p>'))\n",
    "featureScores"
   ]
  },
  {
   "cell_type": "code",
   "execution_count": 11,
   "metadata": {
    "colab": {
     "base_uri": "https://localhost:8080/"
    },
    "id": "k_QO_misl79U",
    "outputId": "38e53b9c-3bd2-49c3-85cd-1425cf13848a"
   },
   "outputs": [
    {
     "name": "stdout",
     "output_type": "stream",
     "text": [
      "                       Specs          Score\n",
      "18                 patientid  115643.937269\n",
      "0                 Unnamed: 0   37698.608650\n",
      "19                group_code    9688.461251\n",
      "6               code_D11_2nd    1989.000000\n",
      "14  abdominal_pain_frequency     848.692601\n",
      "2                   PR_score     792.877476\n",
      "5               code_D11_1st     552.919606\n",
      "12              code_T08_2nd     287.320142\n",
      "10              code_T03_2nd     272.766022\n",
      "11              code_T08_1st     224.751971\n",
      "16              code_D16_2nd     222.390054\n",
      "13            abdominal_pain     209.749717\n",
      "9               code_T03_1st     203.843976\n",
      "4               Case_Control     191.448419\n",
      "1             abd_tend_score     186.484382\n",
      "17  haemoglobin_3_categories     170.329937\n",
      "15              code_D16_1st     156.523950\n",
      "8               code_D12_2nd     120.154047\n",
      "7               code_D12_1st     105.953738\n",
      "3                  age_group       9.547794\n"
     ]
    }
   ],
   "source": [
    "#Top 20 Features\n",
    "print(featureScores.nlargest(20,'Score'))"
   ]
  },
  {
   "cell_type": "code",
   "execution_count": 12,
   "metadata": {
    "colab": {
     "base_uri": "https://localhost:8080/"
    },
    "id": "3F1JOslBmRWk",
    "outputId": "32e1b864-eaa0-4a5f-e9c1-26457c5b0e33"
   },
   "outputs": [
    {
     "data": {
      "text/plain": [
       "ExtraTreesClassifier()"
      ]
     },
     "execution_count": 12,
     "metadata": {},
     "output_type": "execute_result"
    }
   ],
   "source": [
    "from sklearn.ensemble import ExtraTreesClassifier\n",
    "import matplotlib.pyplot as plt\n",
    "model = ExtraTreesClassifier()\n",
    "model.fit(X,y)"
   ]
  },
  {
   "cell_type": "code",
   "execution_count": 13,
   "metadata": {
    "colab": {
     "base_uri": "https://localhost:8080/",
     "height": 537
    },
    "id": "9-dM4phQmejw",
    "outputId": "33c28b79-c9e6-42b5-981a-7de633a29f5d",
    "scrolled": true
   },
   "outputs": [
    {
     "ename": "TypeError",
     "evalue": "bar() got an unexpected keyword argument 'figsize'",
     "output_type": "error",
     "traceback": [
      "\u001b[0;31m---------------------------------------------------------------------------\u001b[0m",
      "\u001b[0;31mTypeError\u001b[0m                                 Traceback (most recent call last)",
      "\u001b[0;32m/tmp/ipykernel_27280/3990718567.py\u001b[0m in \u001b[0;36m<module>\u001b[0;34m\u001b[0m\n\u001b[1;32m      1\u001b[0m \u001b[0;31m#Feature importances\u001b[0m\u001b[0;34m\u001b[0m\u001b[0;34m\u001b[0m\u001b[0m\n\u001b[1;32m      2\u001b[0m \u001b[0mfeat_importances\u001b[0m \u001b[0;34m=\u001b[0m \u001b[0mpd\u001b[0m\u001b[0;34m.\u001b[0m\u001b[0mSeries\u001b[0m\u001b[0;34m(\u001b[0m\u001b[0mmodel\u001b[0m\u001b[0;34m.\u001b[0m\u001b[0mfeature_importances_\u001b[0m\u001b[0;34m,\u001b[0m \u001b[0mindex\u001b[0m\u001b[0;34m=\u001b[0m\u001b[0mX\u001b[0m\u001b[0;34m.\u001b[0m\u001b[0mcolumns\u001b[0m\u001b[0;34m)\u001b[0m\u001b[0;34m\u001b[0m\u001b[0;34m\u001b[0m\u001b[0m\n\u001b[0;32m----> 3\u001b[0;31m \u001b[0mfeat_importances\u001b[0m\u001b[0;34m.\u001b[0m\u001b[0mnlargest\u001b[0m\u001b[0;34m(\u001b[0m\u001b[0;36m20\u001b[0m\u001b[0;34m)\u001b[0m\u001b[0;34m.\u001b[0m\u001b[0mplot\u001b[0m\u001b[0;34m(\u001b[0m\u001b[0mkind\u001b[0m\u001b[0;34m=\u001b[0m\u001b[0;34m'barh'\u001b[0m\u001b[0;34m,\u001b[0m \u001b[0mfigsize\u001b[0m\u001b[0;34m=\u001b[0m\u001b[0;34m(\u001b[0m\u001b[0;36m16\u001b[0m\u001b[0;34m,\u001b[0m \u001b[0;36m9\u001b[0m\u001b[0;34m)\u001b[0m\u001b[0;34m)\u001b[0m\u001b[0;34m\u001b[0m\u001b[0;34m\u001b[0m\u001b[0m\n\u001b[0m\u001b[1;32m      4\u001b[0m \u001b[0mplt\u001b[0m\u001b[0;34m.\u001b[0m\u001b[0mshow\u001b[0m\u001b[0;34m(\u001b[0m\u001b[0;34m)\u001b[0m\u001b[0;34m\u001b[0m\u001b[0;34m\u001b[0m\u001b[0m\n",
      "\u001b[0;32m~/anaconda3/lib/python3.9/site-packages/pandas/plotting/_core.py\u001b[0m in \u001b[0;36m__call__\u001b[0;34m(self, *args, **kwargs)\u001b[0m\n\u001b[1;32m    900\u001b[0m         \u001b[0;31m# when using another backend, get out of the way\u001b[0m\u001b[0;34m\u001b[0m\u001b[0;34m\u001b[0m\u001b[0m\n\u001b[1;32m    901\u001b[0m         \u001b[0;32mif\u001b[0m \u001b[0mplot_backend\u001b[0m\u001b[0;34m.\u001b[0m\u001b[0m__name__\u001b[0m \u001b[0;34m!=\u001b[0m \u001b[0;34m\"pandas.plotting._matplotlib\"\u001b[0m\u001b[0;34m:\u001b[0m\u001b[0;34m\u001b[0m\u001b[0;34m\u001b[0m\u001b[0m\n\u001b[0;32m--> 902\u001b[0;31m             \u001b[0;32mreturn\u001b[0m \u001b[0mplot_backend\u001b[0m\u001b[0;34m.\u001b[0m\u001b[0mplot\u001b[0m\u001b[0;34m(\u001b[0m\u001b[0mself\u001b[0m\u001b[0;34m.\u001b[0m\u001b[0m_parent\u001b[0m\u001b[0;34m,\u001b[0m \u001b[0mx\u001b[0m\u001b[0;34m=\u001b[0m\u001b[0mx\u001b[0m\u001b[0;34m,\u001b[0m \u001b[0my\u001b[0m\u001b[0;34m=\u001b[0m\u001b[0my\u001b[0m\u001b[0;34m,\u001b[0m \u001b[0mkind\u001b[0m\u001b[0;34m=\u001b[0m\u001b[0mkind\u001b[0m\u001b[0;34m,\u001b[0m \u001b[0;34m**\u001b[0m\u001b[0mkwargs\u001b[0m\u001b[0;34m)\u001b[0m\u001b[0;34m\u001b[0m\u001b[0;34m\u001b[0m\u001b[0m\n\u001b[0m\u001b[1;32m    903\u001b[0m \u001b[0;34m\u001b[0m\u001b[0m\n\u001b[1;32m    904\u001b[0m         \u001b[0;32mif\u001b[0m \u001b[0mkind\u001b[0m \u001b[0;32mnot\u001b[0m \u001b[0;32min\u001b[0m \u001b[0mself\u001b[0m\u001b[0;34m.\u001b[0m\u001b[0m_all_kinds\u001b[0m\u001b[0;34m:\u001b[0m\u001b[0;34m\u001b[0m\u001b[0;34m\u001b[0m\u001b[0m\n",
      "\u001b[0;32m~/anaconda3/lib/python3.9/site-packages/plotly/__init__.py\u001b[0m in \u001b[0;36mplot\u001b[0;34m(data_frame, kind, **kwargs)\u001b[0m\n\u001b[1;32m    106\u001b[0m         \u001b[0;32mreturn\u001b[0m \u001b[0mbar\u001b[0m\u001b[0;34m(\u001b[0m\u001b[0mdata_frame\u001b[0m\u001b[0;34m,\u001b[0m \u001b[0;34m**\u001b[0m\u001b[0mkwargs\u001b[0m\u001b[0;34m)\u001b[0m\u001b[0;34m\u001b[0m\u001b[0;34m\u001b[0m\u001b[0m\n\u001b[1;32m    107\u001b[0m     \u001b[0;32mif\u001b[0m \u001b[0mkind\u001b[0m \u001b[0;34m==\u001b[0m \u001b[0;34m\"barh\"\u001b[0m\u001b[0;34m:\u001b[0m\u001b[0;34m\u001b[0m\u001b[0;34m\u001b[0m\u001b[0m\n\u001b[0;32m--> 108\u001b[0;31m         \u001b[0;32mreturn\u001b[0m \u001b[0mbar\u001b[0m\u001b[0;34m(\u001b[0m\u001b[0mdata_frame\u001b[0m\u001b[0;34m,\u001b[0m \u001b[0morientation\u001b[0m\u001b[0;34m=\u001b[0m\u001b[0;34m\"h\"\u001b[0m\u001b[0;34m,\u001b[0m \u001b[0;34m**\u001b[0m\u001b[0mkwargs\u001b[0m\u001b[0;34m)\u001b[0m\u001b[0;34m\u001b[0m\u001b[0;34m\u001b[0m\u001b[0m\n\u001b[0m\u001b[1;32m    109\u001b[0m     \u001b[0;32mif\u001b[0m \u001b[0mkind\u001b[0m \u001b[0;34m==\u001b[0m \u001b[0;34m\"box\"\u001b[0m\u001b[0;34m:\u001b[0m\u001b[0;34m\u001b[0m\u001b[0;34m\u001b[0m\u001b[0m\n\u001b[1;32m    110\u001b[0m         \u001b[0mnew_kwargs\u001b[0m \u001b[0;34m=\u001b[0m \u001b[0;34m{\u001b[0m\u001b[0mk\u001b[0m\u001b[0;34m:\u001b[0m \u001b[0mkwargs\u001b[0m\u001b[0;34m[\u001b[0m\u001b[0mk\u001b[0m\u001b[0;34m]\u001b[0m \u001b[0;32mfor\u001b[0m \u001b[0mk\u001b[0m \u001b[0;32min\u001b[0m \u001b[0mkwargs\u001b[0m \u001b[0;32mif\u001b[0m \u001b[0mk\u001b[0m \u001b[0;32mnot\u001b[0m \u001b[0;32min\u001b[0m \u001b[0;34m[\u001b[0m\u001b[0;34m\"by\"\u001b[0m\u001b[0;34m]\u001b[0m\u001b[0;34m}\u001b[0m\u001b[0;34m\u001b[0m\u001b[0;34m\u001b[0m\u001b[0m\n",
      "\u001b[0;31mTypeError\u001b[0m: bar() got an unexpected keyword argument 'figsize'"
     ]
    }
   ],
   "source": [
    "#Feature importances\n",
    "feat_importances = pd.Series(model.feature_importances_, index=X.columns)\n",
    "feat_importances.nlargest(20).plot(kind='barh', figsize=(16, 9))\n",
    "plt.show()"
   ]
  },
  {
   "cell_type": "code",
   "execution_count": null,
   "metadata": {
    "colab": {
     "base_uri": "https://localhost:8080/",
     "height": 1000
    },
    "id": "vmR6DSSDmlHw",
    "outputId": "1e9bb0d6-8fe7-43d9-c6f0-ec8014b98e2e"
   },
   "outputs": [],
   "source": [
    "import seaborn as sns\n",
    "corrmat = data.corr()\n",
    "plt.figure(figsize=(20,20))\n",
    "g=sns.heatmap(data[['code_D11_2nd', 'abdominal_pain_frequency', 'PR_score', 'code_D11_1st', 'code_T08_2nd', 'code_T03_2nd', 'code_T08_1st', 'code_D16_2nd', 'abdominal_pain', 'code_T03_1st', 'Case_Control', 'abd_tend_score', 'haemoglobin_3_categories', 'code_D16_1st', 'code_D12_2nd', 'code_D12_1st', 'age_group'   ]].corr(),annot=True,cmap=\"RdYlGn\")"
   ]
  },
  {
   "cell_type": "code",
   "execution_count": null,
   "metadata": {
    "colab": {
     "base_uri": "https://localhost:8080/",
     "height": 553
    },
    "id": "mPizyVgNnKQG",
    "outputId": "765c1e5b-3813-4b48-871b-9324f4250e0b"
   },
   "outputs": [],
   "source": [
    "plt.subplot(221)\n",
    "\n",
    "data['age_group'].value_counts().plot(kind='bar', title='Age of patients', figsize=(16,9))\n",
    "\n",
    "plt.xticks(rotation=0)\n",
    "\n",
    "plt.subplot(222)\n",
    "\n",
    "data['abdominal_pain_frequency'].value_counts().plot(kind='bar', title='Abdominal Pain Frequency')\n",
    "\n",
    "plt.xticks(rotation=0)\n",
    "\n",
    "plt.subplot(223)\n",
    "\n",
    "data['code_D11_2nd'].value_counts().plot(kind='bar', title='Random Variable at')\n",
    "\n",
    "plt.xticks(rotation=0)\n",
    "\n",
    "plt.subplot(224)\n",
    "\n",
    "data['Case_Control'].value_counts().plot(kind='bar', title='Were Cancerous')\n",
    "\n",
    "plt.xticks(rotation=0)\n",
    "\n",
    "plt.show()"
   ]
  },
  {
   "cell_type": "code",
   "execution_count": null,
   "metadata": {
    "colab": {
     "base_uri": "https://localhost:8080/",
     "height": 612
    },
    "id": "T-uppBl3sk9W",
    "outputId": "8e4827e0-d77c-4bb5-fac5-58077b8c1fd1"
   },
   "outputs": [],
   "source": [
    "#Data distribution based on diagnosis vs. age\n",
    "sns.set(rc={\"figure.figsize\":(16, 9)})\n",
    "sns.distplot(data[['Case_Control', 'age_group']])"
   ]
  },
  {
   "cell_type": "code",
   "execution_count": null,
   "metadata": {
    "colab": {
     "base_uri": "https://localhost:8080/",
     "height": 503
    },
    "id": "INhuYoUQstR2",
    "outputId": "69c54b88-19d1-478a-e77f-42ebdc74f4fd"
   },
   "outputs": [],
   "source": [
    "#Symptoms by Age\n",
    "data.groupby('age_group')[['code_D11_2nd', 'abdominal_pain_frequency', 'PR_score', 'code_D11_1st', 'code_T08_2nd', 'code_T03_2nd', 'code_T08_1st', 'code_D16_2nd', 'abdominal_pain', 'code_T03_1st', 'Case_Control', 'abd_tend_score', 'haemoglobin_3_categories', 'code_D16_1st', 'code_D12_2nd', 'code_D12_1st', 'age_group'  ]].mean().T.plot(figsize=(12,8))"
   ]
  },
  {
   "cell_type": "code",
   "execution_count": null,
   "metadata": {
    "colab": {
     "base_uri": "https://localhost:8080/",
     "height": 502
    },
    "id": "3QXUml-qtfFR",
    "outputId": "ad703b32-0a24-4c78-e366-d73ff5c57cc5",
    "scrolled": true
   },
   "outputs": [],
   "source": [
    "data.groupby('age_group')[['code_D11_2nd', 'abdominal_pain_frequency', 'PR_score', 'code_D11_1st', 'code_T08_2nd', 'code_T03_2nd', 'code_T08_1st', 'code_D16_2nd', 'abdominal_pain', 'code_T03_1st', 'Case_Control', 'abd_tend_score', 'haemoglobin_3_categories', 'code_D16_1st', 'code_D12_2nd', 'code_D12_1st', 'age_group'  ]].mean().T.plot(kind='barh', figsize=(12,8))"
   ]
  },
  {
   "cell_type": "code",
   "execution_count": null,
   "metadata": {},
   "outputs": [],
   "source": [
    "df = data[['code_D11_2nd', 'abdominal_pain_frequency', 'PR_score', 'code_D11_1st', 'code_T08_2nd', 'code_T03_2nd', 'code_T08_1st', 'code_D16_2nd', 'abdominal_pain', 'code_T03_1st', 'Case_Control', 'abd_tend_score', 'haemoglobin_3_categories', 'code_D16_1st', 'code_D12_2nd', 'code_D12_1st', 'age_group'   ]]"
   ]
  },
  {
   "cell_type": "code",
   "execution_count": null,
   "metadata": {
    "colab": {
     "base_uri": "https://localhost:8080/",
     "height": 1000
    },
    "id": "QLOZ2R8Ku_Za",
    "outputId": "03fac4ed-5d8a-4c29-9025-7ca4f692ac0f",
    "scrolled": true
   },
   "outputs": [],
   "source": [
    "g = sns.PairGrid(df)\n",
    "g.map(sns.barplot)"
   ]
  },
  {
   "cell_type": "code",
   "execution_count": null,
   "metadata": {
    "colab": {
     "base_uri": "https://localhost:8080/",
     "height": 994
    },
    "id": "s74rt236wMlr",
    "outputId": "f17b26d5-0d22-4c93-be83-441e26fd9246"
   },
   "outputs": [],
   "source": [
    "g = sns.barplot(data=df)\n",
    "g.set_xticklabels(\n",
    "    labels=['code_D11_2nd', 'abdominal_pain_frequency', 'PR_score', 'code_D11_1st', 'code_T08_2nd', 'code_T03_2nd', 'code_T08_1st', 'code_D16_2nd', 'abdominal_pain', 'code_T03_1st', 'Case_Control', 'abd_tend_score', 'haemoglobin_3_categories', 'code_D16_1st', 'code_D12_2nd', 'code_D12_1st', 'age_group' ], rotation=30)\n",
    "# Show the plot\n",
    "plt.show()"
   ]
  },
  {
   "cell_type": "code",
   "execution_count": null,
   "metadata": {
    "colab": {
     "base_uri": "https://localhost:8080/",
     "height": 994
    },
    "id": "hXRl3W5_wfpd",
    "outputId": "5d9b0c3d-d5f4-4f71-bd9e-2e2fa9e42bf0"
   },
   "outputs": [],
   "source": [
    "#distribution vs. density\n",
    "g = sns.violinplot(data=df)\n",
    "g.set_xticklabels(\n",
    "    labels=['code_D11_2nd', 'abdominal_pain_frequency', 'PR_score', 'code_D11_1st', 'code_T08_2nd', 'code_T03_2nd', 'code_T08_1st', 'code_D16_2nd', 'abdominal_pain', 'code_T03_1st', 'Case_Control', 'abd_tend_score', 'haemoglobin_3_categories', 'code_D16_1st', 'code_D12_2nd', 'code_D12_1st', 'age_group' ], rotation=30)\n",
    "# Show the plot\n",
    "plt.show()"
   ]
  },
  {
   "cell_type": "code",
   "execution_count": null,
   "metadata": {
    "colab": {
     "base_uri": "https://localhost:8080/",
     "height": 994
    },
    "id": "JUm1FdlUwl29",
    "outputId": "4560d358-19b2-4e36-e0fa-a0e20da59764"
   },
   "outputs": [],
   "source": [
    "#Kernal Density\n",
    "g = sns.kdeplot(data=df)\n",
    "g.set_xticklabels(\n",
    "    labels=['code_D11_2nd', 'abdominal_pain_frequency', 'PR_score', 'code_D11_1st', 'code_T08_2nd', 'code_T03_2nd', 'code_T08_1st', 'code_D16_2nd', 'abdominal_pain', 'code_T03_1st', 'Case_Control', 'abd_tend_score', 'haemoglobin_3_categories', 'code_D16_1st', 'code_D12_2nd', 'code_D12_1st', 'age_group' ], rotation=30)\n",
    "# Show the plot\n",
    "plt.show()"
   ]
  },
  {
   "cell_type": "code",
   "execution_count": null,
   "metadata": {
    "id": "PsOHpePAwrHw"
   },
   "outputs": [],
   "source": []
  }
 ],
 "metadata": {
  "colab": {
   "collapsed_sections": [],
   "name": "EDA_CRC_06/1/2022.ipynb",
   "provenance": []
  },
  "kernelspec": {
   "display_name": "Python 3 (ipykernel)",
   "language": "python",
   "name": "python3"
  },
  "language_info": {
   "codemirror_mode": {
    "name": "ipython",
    "version": 3
   },
   "file_extension": ".py",
   "mimetype": "text/x-python",
   "name": "python",
   "nbconvert_exporter": "python",
   "pygments_lexer": "ipython3",
   "version": "3.9.7"
  }
 },
 "nbformat": 4,
 "nbformat_minor": 4
}
