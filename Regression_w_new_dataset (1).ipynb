{
 "cells": [
  {
   "cell_type": "code",
   "execution_count": null,
   "metadata": {
    "colab": {
     "base_uri": "https://localhost:8080/",
     "height": 1000
    },
    "id": "LoJ7O0ozYaBV",
    "outputId": "cd1b8e60-7cd3-48e8-d715-8753df115660",
    "pycharm": {
     "name": "#%%\n",
     "is_executing": true
    }
   },
   "outputs": [
    {
     "name": "stdout",
     "output_type": "stream",
     "text": [
      "\u001B[31mERROR: pip's dependency resolver does not currently take into account all the packages that are installed. This behaviour is the source of the following dependency conflicts.\r\n",
      "conda-repo-cli 1.0.4 requires pathlib, which is not installed.\r\n",
      "rich-cli 1.5.1 requires click<9.0.0,>=8.0.0, but you have click 7.1.2 which is incompatible.\r\n",
      "rich-cli 1.5.1 requires rich<12.0.0,>=11.2.0, but you have rich 10.16.2 which is incompatible.\r\n",
      "python-benedict 0.25.1 requires pyyaml<7.0,>=6.0, but you have pyyaml 5.4.1 which is incompatible.\r\n",
      "fastds 0.6.0 requires colorama==0.4.4, but you have colorama 0.4.3 which is incompatible.\r\n",
      "boto3 1.20.49 requires botocore<1.24.0,>=1.23.49, but you have botocore 1.23.20 which is incompatible.\u001B[0m\u001B[31m\r\n",
      "\u001B[0m\u001B[33mWARNING: You are using pip version 22.0.4; however, version 22.1.1 is available.\r\n",
      "You should consider upgrading via the '/home/brandon/anaconda3/bin/python3 -m pip install --upgrade pip' command.\u001B[0m\u001B[33m\r\n",
      "\u001B[0mRequirement already satisfied: numpy in /home/brandon/anaconda3/lib/python3.9/site-packages (1.19.5)\r\n",
      "Collecting numpy\r\n",
      "  Downloading numpy-1.22.4-cp39-cp39-manylinux_2_17_x86_64.manylinux2014_x86_64.whl (16.8 MB)\r\n",
      "\u001B[2K     \u001B[90m━━━━━━━━━━━━━━━━━━━━━━━━━━━━━━━━━━━━━━━━\u001B[0m \u001B[32m16.8/16.8 MB\u001B[0m \u001B[31m5.6 MB/s\u001B[0m eta \u001B[36m0:00:00\u001B[0m00:01\u001B[0m00:01\u001B[0m\r\n",
      "\u001B[?25hInstalling collected packages: numpy\r\n",
      "  Attempting uninstall: numpy\r\n",
      "    Found existing installation: numpy 1.19.5\r\n",
      "    Uninstalling numpy-1.19.5:\r\n",
      "      Successfully uninstalled numpy-1.19.5\r\n",
      "\u001B[31mERROR: pip's dependency resolver does not currently take into account all the packages that are installed. This behaviour is the source of the following dependency conflicts.\r\n",
      "daal4py 2021.3.0 requires daal==2021.2.3, which is not installed.\r\n",
      "yellowbrick 1.3.post1 requires numpy<1.20,>=1.16.0, but you have numpy 1.22.4 which is incompatible.\r\n",
      "numba 0.54.1 requires numpy<1.21,>=1.17, but you have numpy 1.22.4 which is incompatible.\r\n",
      "es-core-news-sm 3.2.0 requires spacy<3.3.0,>=3.2.0, but you have spacy 2.3.7 which is incompatible.\u001B[0m\u001B[31m\r\n",
      "\u001B[0mSuccessfully installed numpy-1.22.4\r\n",
      "\u001B[33mWARNING: You are using pip version 22.0.4; however, version 22.1.1 is available.\r\n",
      "You should consider upgrading via the '/home/brandon/anaconda3/bin/python3 -m pip install --upgrade pip' command.\u001B[0m\u001B[33m\r\n",
      "\u001B[0mRequirement already satisfied: explainerdashboard in /home/brandon/anaconda3/lib/python3.9/site-packages (0.3.7)\r\n",
      "Requirement already satisfied: flask-simplelogin in /home/brandon/anaconda3/lib/python3.9/site-packages (from explainerdashboard) (0.1.1)\r\n",
      "Requirement already satisfied: dash>=1.20 in /home/brandon/anaconda3/lib/python3.9/site-packages (from explainerdashboard) (2.0.0)\r\n",
      "Requirement already satisfied: jupyter-dash in /home/brandon/anaconda3/lib/python3.9/site-packages (from explainerdashboard) (0.4.0)\r\n",
      "Requirement already satisfied: shap>=0.37 in /home/brandon/anaconda3/lib/python3.9/site-packages (from explainerdashboard) (0.40.0)\r\n",
      "Requirement already satisfied: orjson in /home/brandon/anaconda3/lib/python3.9/site-packages (from explainerdashboard) (3.6.5)\r\n",
      "Requirement already satisfied: click in /home/brandon/anaconda3/lib/python3.9/site-packages (from explainerdashboard) (7.1.2)\r\n",
      "Requirement already satisfied: joblib in /home/brandon/anaconda3/lib/python3.9/site-packages (from explainerdashboard) (1.0.1)\r\n",
      "Requirement already satisfied: scikit-learn in /home/brandon/anaconda3/lib/python3.9/site-packages (from explainerdashboard) (0.24.2)\r\n",
      "Requirement already satisfied: oyaml in /home/brandon/anaconda3/lib/python3.9/site-packages (from explainerdashboard) (1.0)\r\n",
      "Requirement already satisfied: numpy in /home/brandon/anaconda3/lib/python3.9/site-packages (from explainerdashboard) (1.22.4)\r\n",
      "Requirement already satisfied: dash-bootstrap-components<1 in /home/brandon/anaconda3/lib/python3.9/site-packages (from explainerdashboard) (0.13.1)\r\n",
      "Requirement already satisfied: pandas>=1.1 in /home/brandon/anaconda3/lib/python3.9/site-packages (from explainerdashboard) (1.3.4)\r\n",
      "Requirement already satisfied: dtreeviz>=1.3 in /home/brandon/anaconda3/lib/python3.9/site-packages (from explainerdashboard) (1.3.2)\r\n",
      "Requirement already satisfied: waitress in /home/brandon/anaconda3/lib/python3.9/site-packages (from explainerdashboard) (2.0.0)\r\n",
      "Requirement already satisfied: dash-auth in /home/brandon/anaconda3/lib/python3.9/site-packages (from explainerdashboard) (1.4.1)\r\n",
      "Requirement already satisfied: Flask>=1.0.4 in /home/brandon/anaconda3/lib/python3.9/site-packages (from dash>=1.20->explainerdashboard) (1.1.2)\r\n",
      "Requirement already satisfied: dash-table==5.0.0 in /home/brandon/anaconda3/lib/python3.9/site-packages (from dash>=1.20->explainerdashboard) (5.0.0)\r\n",
      "Requirement already satisfied: dash-core-components==2.0.0 in /home/brandon/anaconda3/lib/python3.9/site-packages (from dash>=1.20->explainerdashboard) (2.0.0)\r\n",
      "Requirement already satisfied: plotly>=5.0.0 in /home/brandon/anaconda3/lib/python3.9/site-packages (from dash>=1.20->explainerdashboard) (5.3.0)\r\n",
      "Requirement already satisfied: flask-compress in /home/brandon/anaconda3/lib/python3.9/site-packages (from dash>=1.20->explainerdashboard) (1.10.1)\r\n",
      "Requirement already satisfied: dash-html-components==2.0.0 in /home/brandon/anaconda3/lib/python3.9/site-packages (from dash>=1.20->explainerdashboard) (2.0.0)\r\n",
      "Requirement already satisfied: matplotlib in /home/brandon/anaconda3/lib/python3.9/site-packages (from dtreeviz>=1.3->explainerdashboard) (3.4.3)\r\n",
      "Requirement already satisfied: colour in /home/brandon/anaconda3/lib/python3.9/site-packages (from dtreeviz>=1.3->explainerdashboard) (0.1.5)\r\n",
      "Requirement already satisfied: pytest in /home/brandon/anaconda3/lib/python3.9/site-packages (from dtreeviz>=1.3->explainerdashboard) (6.2.4)\r\n",
      "Requirement already satisfied: graphviz>=0.9 in /home/brandon/anaconda3/lib/python3.9/site-packages (from dtreeviz>=1.3->explainerdashboard) (0.19)\r\n",
      "Requirement already satisfied: python-dateutil>=2.7.3 in /home/brandon/anaconda3/lib/python3.9/site-packages (from pandas>=1.1->explainerdashboard) (2.8.2)\r\n",
      "Requirement already satisfied: pytz>=2017.3 in /home/brandon/anaconda3/lib/python3.9/site-packages (from pandas>=1.1->explainerdashboard) (2021.3)\r\n",
      "Requirement already satisfied: tqdm>4.25.0 in /home/brandon/anaconda3/lib/python3.9/site-packages (from shap>=0.37->explainerdashboard) (4.64.0)\r\n",
      "Requirement already satisfied: numba in /home/brandon/anaconda3/lib/python3.9/site-packages (from shap>=0.37->explainerdashboard) (0.54.1)\r\n",
      "Requirement already satisfied: packaging>20.9 in /home/brandon/anaconda3/lib/python3.9/site-packages (from shap>=0.37->explainerdashboard) (21.0)\r\n",
      "Requirement already satisfied: cloudpickle in /home/brandon/anaconda3/lib/python3.9/site-packages (from shap>=0.37->explainerdashboard) (2.0.0)\r\n",
      "Requirement already satisfied: slicer==0.0.7 in /home/brandon/anaconda3/lib/python3.9/site-packages (from shap>=0.37->explainerdashboard) (0.0.7)\r\n",
      "Requirement already satisfied: scipy in /home/brandon/anaconda3/lib/python3.9/site-packages (from shap>=0.37->explainerdashboard) (1.7.1)\r\n",
      "Requirement already satisfied: ua-parser in /home/brandon/anaconda3/lib/python3.9/site-packages (from dash-auth->explainerdashboard) (0.10.0)\r\n",
      "Requirement already satisfied: itsdangerous>=1.1.0 in /home/brandon/anaconda3/lib/python3.9/site-packages (from dash-auth->explainerdashboard) (2.0.1)\r\n",
      "Requirement already satisfied: retrying in /home/brandon/anaconda3/lib/python3.9/site-packages (from dash-auth->explainerdashboard) (1.3.3)\r\n",
      "Requirement already satisfied: flask-seasurf in /home/brandon/anaconda3/lib/python3.9/site-packages (from dash-auth->explainerdashboard) (0.3.1)\r\n",
      "Requirement already satisfied: chart-studio>=1.0.0 in /home/brandon/anaconda3/lib/python3.9/site-packages (from dash-auth->explainerdashboard) (1.1.0)\r\n",
      "Requirement already satisfied: requests in /home/brandon/anaconda3/lib/python3.9/site-packages (from dash-auth->explainerdashboard) (2.26.0)\r\n",
      "Requirement already satisfied: WTForms>=2.1 in /home/brandon/anaconda3/lib/python3.9/site-packages (from flask-simplelogin->explainerdashboard) (3.0.0)\r\n",
      "Requirement already satisfied: Flask-WTF<0.16.0,>=0.15.1 in /home/brandon/anaconda3/lib/python3.9/site-packages (from flask-simplelogin->explainerdashboard) (0.15.1)\r\n",
      "Collecting click\r\n",
      "  Downloading click-8.1.3-py3-none-any.whl (96 kB)\r\n",
      "\u001B[2K     \u001B[90m━━━━━━━━━━━━━━━━━━━━━━━━━━━━━━━━━━━━━━━\u001B[0m \u001B[32m96.6/96.6 KB\u001B[0m \u001B[31m495.0 kB/s\u001B[0m eta \u001B[36m0:00:00\u001B[0ma \u001B[36m0:00:01\u001B[0m\r\n",
      "\u001B[?25hRequirement already satisfied: ipython in /home/brandon/anaconda3/lib/python3.9/site-packages (from jupyter-dash->explainerdashboard) (7.29.0)\r\n",
      "Requirement already satisfied: ansi2html in /home/brandon/anaconda3/lib/python3.9/site-packages (from jupyter-dash->explainerdashboard) (1.6.0)\r\n",
      "Requirement already satisfied: ipykernel in /home/brandon/anaconda3/lib/python3.9/site-packages (from jupyter-dash->explainerdashboard) (6.4.1)\r\n",
      "Requirement already satisfied: pyyaml in /home/brandon/anaconda3/lib/python3.9/site-packages (from oyaml->explainerdashboard) (5.4.1)\r\n",
      "Requirement already satisfied: threadpoolctl>=2.0.0 in /home/brandon/anaconda3/lib/python3.9/site-packages (from scikit-learn->explainerdashboard) (2.2.0)\r\n",
      "Requirement already satisfied: six in /home/brandon/anaconda3/lib/python3.9/site-packages (from chart-studio>=1.0.0->dash-auth->explainerdashboard) (1.16.0)\r\n",
      "Requirement already satisfied: Werkzeug>=0.15 in /home/brandon/anaconda3/lib/python3.9/site-packages (from Flask>=1.0.4->dash>=1.20->explainerdashboard) (2.0.2)\r\n",
      "Requirement already satisfied: Jinja2>=2.10.1 in /home/brandon/anaconda3/lib/python3.9/site-packages (from Flask>=1.0.4->dash>=1.20->explainerdashboard) (3.1.2)\r\n",
      "Requirement already satisfied: pyparsing>=2.0.2 in /home/brandon/anaconda3/lib/python3.9/site-packages (from packaging>20.9->shap>=0.37->explainerdashboard) (3.0.4)\r\n",
      "Requirement already satisfied: tenacity>=6.2.0 in /home/brandon/anaconda3/lib/python3.9/site-packages (from plotly>=5.0.0->dash>=1.20->explainerdashboard) (8.0.1)\r\n",
      "Requirement already satisfied: MarkupSafe in /home/brandon/anaconda3/lib/python3.9/site-packages (from WTForms>=2.1->flask-simplelogin->explainerdashboard) (2.0.1)\r\n",
      "Requirement already satisfied: brotli in /home/brandon/anaconda3/lib/python3.9/site-packages (from flask-compress->dash>=1.20->explainerdashboard) (1.0.9)\r\n",
      "Requirement already satisfied: traitlets<6.0,>=4.1.0 in /home/brandon/anaconda3/lib/python3.9/site-packages (from ipykernel->jupyter-dash->explainerdashboard) (5.1.0)\r\n",
      "Requirement already satisfied: ipython-genutils in /home/brandon/anaconda3/lib/python3.9/site-packages (from ipykernel->jupyter-dash->explainerdashboard) (0.2.0)\r\n",
      "Requirement already satisfied: debugpy<2.0,>=1.0.0 in /home/brandon/anaconda3/lib/python3.9/site-packages (from ipykernel->jupyter-dash->explainerdashboard) (1.4.1)\r\n",
      "Requirement already satisfied: jupyter-client<8.0 in /home/brandon/anaconda3/lib/python3.9/site-packages (from ipykernel->jupyter-dash->explainerdashboard) (6.1.12)\r\n",
      "Requirement already satisfied: tornado<7.0,>=4.2 in /home/brandon/anaconda3/lib/python3.9/site-packages (from ipykernel->jupyter-dash->explainerdashboard) (6.1)\r\n",
      "Requirement already satisfied: matplotlib-inline<0.2.0,>=0.1.0 in /home/brandon/anaconda3/lib/python3.9/site-packages (from ipykernel->jupyter-dash->explainerdashboard) (0.1.2)\r\n",
      "Requirement already satisfied: pickleshare in /home/brandon/anaconda3/lib/python3.9/site-packages (from ipython->jupyter-dash->explainerdashboard) (0.7.5)\r\n",
      "Requirement already satisfied: backcall in /home/brandon/anaconda3/lib/python3.9/site-packages (from ipython->jupyter-dash->explainerdashboard) (0.2.0)\r\n",
      "Requirement already satisfied: setuptools>=18.5 in /home/brandon/anaconda3/lib/python3.9/site-packages (from ipython->jupyter-dash->explainerdashboard) (59.6.0)\r\n",
      "Requirement already satisfied: prompt-toolkit!=3.0.0,!=3.0.1,<3.1.0,>=2.0.0 in /home/brandon/anaconda3/lib/python3.9/site-packages (from ipython->jupyter-dash->explainerdashboard) (3.0.20)\r\n",
      "Requirement already satisfied: jedi>=0.16 in /home/brandon/anaconda3/lib/python3.9/site-packages (from ipython->jupyter-dash->explainerdashboard) (0.18.0)\r\n",
      "Requirement already satisfied: pygments in /home/brandon/anaconda3/lib/python3.9/site-packages (from ipython->jupyter-dash->explainerdashboard) (2.10.0)\r\n",
      "Requirement already satisfied: decorator in /home/brandon/anaconda3/lib/python3.9/site-packages (from ipython->jupyter-dash->explainerdashboard) (5.1.0)\r\n",
      "Requirement already satisfied: pexpect>4.3 in /home/brandon/anaconda3/lib/python3.9/site-packages (from ipython->jupyter-dash->explainerdashboard) (4.8.0)\r\n",
      "Requirement already satisfied: cycler>=0.10 in /home/brandon/anaconda3/lib/python3.9/site-packages (from matplotlib->dtreeviz>=1.3->explainerdashboard) (0.10.0)\r\n",
      "Requirement already satisfied: kiwisolver>=1.0.1 in /home/brandon/anaconda3/lib/python3.9/site-packages (from matplotlib->dtreeviz>=1.3->explainerdashboard) (1.3.1)\r\n",
      "Requirement already satisfied: pillow>=6.2.0 in /home/brandon/anaconda3/lib/python3.9/site-packages (from matplotlib->dtreeviz>=1.3->explainerdashboard) (8.4.0)\r\n",
      "Collecting numpy\r\n",
      "  Downloading numpy-1.20.3-cp39-cp39-manylinux_2_12_x86_64.manylinux2010_x86_64.whl (15.4 MB)\r\n",
      "\u001B[2K     \u001B[90m━━━━━━━━━━━━━━━━━━━━━━━━━━━━━━━━━━━━━━━━\u001B[0m \u001B[32m15.4/15.4 MB\u001B[0m \u001B[31m6.1 MB/s\u001B[0m eta \u001B[36m0:00:00\u001B[0m00:01\u001B[0m00:01\u001B[0m\r\n",
      "\u001B[?25hRequirement already satisfied: llvmlite<0.38,>=0.37.0rc1 in /home/brandon/anaconda3/lib/python3.9/site-packages (from numba->shap>=0.37->explainerdashboard) (0.37.0)\r\n",
      "Requirement already satisfied: attrs>=19.2.0 in /home/brandon/anaconda3/lib/python3.9/site-packages (from pytest->dtreeviz>=1.3->explainerdashboard) (21.2.0)\r\n",
      "Requirement already satisfied: iniconfig in /home/brandon/anaconda3/lib/python3.9/site-packages (from pytest->dtreeviz>=1.3->explainerdashboard) (1.1.1)\r\n",
      "Requirement already satisfied: pluggy<1.0.0a1,>=0.12 in /home/brandon/anaconda3/lib/python3.9/site-packages (from pytest->dtreeviz>=1.3->explainerdashboard) (0.13.1)\r\n",
      "Requirement already satisfied: py>=1.8.2 in /home/brandon/anaconda3/lib/python3.9/site-packages (from pytest->dtreeviz>=1.3->explainerdashboard) (1.10.0)\r\n",
      "Requirement already satisfied: toml in /home/brandon/anaconda3/lib/python3.9/site-packages (from pytest->dtreeviz>=1.3->explainerdashboard) (0.10.2)\r\n",
      "Requirement already satisfied: urllib3<1.27,>=1.21.1 in /home/brandon/anaconda3/lib/python3.9/site-packages (from requests->dash-auth->explainerdashboard) (1.26.7)\r\n",
      "Requirement already satisfied: certifi>=2017.4.17 in /home/brandon/anaconda3/lib/python3.9/site-packages (from requests->dash-auth->explainerdashboard) (2021.10.8)\r\n",
      "Requirement already satisfied: idna<4,>=2.5 in /home/brandon/anaconda3/lib/python3.9/site-packages (from requests->dash-auth->explainerdashboard) (3.2)\r\n",
      "Requirement already satisfied: charset-normalizer~=2.0.0 in /home/brandon/anaconda3/lib/python3.9/site-packages (from requests->dash-auth->explainerdashboard) (2.0.4)\r\n",
      "Requirement already satisfied: parso<0.9.0,>=0.8.0 in /home/brandon/anaconda3/lib/python3.9/site-packages (from jedi>=0.16->ipython->jupyter-dash->explainerdashboard) (0.8.2)\r\n",
      "Requirement already satisfied: pyzmq>=13 in /home/brandon/anaconda3/lib/python3.9/site-packages (from jupyter-client<8.0->ipykernel->jupyter-dash->explainerdashboard) (22.2.1)\r\n",
      "Requirement already satisfied: jupyter-core>=4.6.0 in /home/brandon/anaconda3/lib/python3.9/site-packages (from jupyter-client<8.0->ipykernel->jupyter-dash->explainerdashboard) (4.8.1)\r\n",
      "Requirement already satisfied: ptyprocess>=0.5 in /home/brandon/anaconda3/lib/python3.9/site-packages (from pexpect>4.3->ipython->jupyter-dash->explainerdashboard) (0.7.0)\r\n",
      "Requirement already satisfied: wcwidth in /home/brandon/anaconda3/lib/python3.9/site-packages (from prompt-toolkit!=3.0.0,!=3.0.1,<3.1.0,>=2.0.0->ipython->jupyter-dash->explainerdashboard) (0.2.5)\r\n"
     ]
    }
   ],
   "source": [
    "!pip install pycaret[full] --quiet\n",
    "!pip install numpy --upgrade\n",
    "!pip install explainerdashboard\n",
    "!pip uninstall matplotlib\n",
    "!pip install matplotlib==3.1.3\n",
    "!pip install Jinja2\n",
    "!pip install markupsafe==2.0.1\n",
    "!pip install tornado\n",
    "!pip install dashboard\n",
    "!pip install numba==0.53\n"
   ]
  },
  {
   "cell_type": "code",
   "execution_count": null,
   "metadata": {
    "id": "9TMHH4GEYCdD",
    "pycharm": {
     "name": "#%%\n",
     "is_executing": true
    }
   },
   "outputs": [],
   "source": [
    "import numpy as np\n",
    "import pandas as pd\n",
    "import matplotlib.pyplot as plt\n",
    "import seaborn as sns\n",
    "sns.set_theme(style=\"darkgrid\")\n",
    "%matplotlib inline\n",
    "\n",
    "import jinja2\n",
    "import explainerdashboard\n",
    "\n",
    "\n"
   ]
  },
  {
   "cell_type": "code",
   "execution_count": null,
   "metadata": {
    "id": "Ab6s50SyXf1X",
    "pycharm": {
     "name": "#%%\n",
     "is_executing": true
    }
   },
   "outputs": [],
   "source": [
    "from pycaret.regression import *"
   ]
  },
  {
   "cell_type": "code",
   "execution_count": null,
   "metadata": {
    "id": "CnYqouR6YWWF",
    "pycharm": {
     "name": "#%%\n",
     "is_executing": true
    }
   },
   "outputs": [],
   "source": [
    "df = pd.read_csv('/home/brandon/Omdena/Omdena Radamol/Project Data/NewLungdata.csv')"
   ]
  },
  {
   "cell_type": "code",
   "execution_count": null,
   "metadata": {
    "colab": {
     "base_uri": "https://localhost:8080/",
     "height": 456
    },
    "id": "GjcS-AOQdNDv",
    "outputId": "226837af-7338-48f1-eb29-2fb025b32422",
    "pycharm": {
     "name": "#%%\n",
     "is_executing": true
    }
   },
   "outputs": [],
   "source": [
    "df.head(10)"
   ]
  },
  {
   "cell_type": "code",
   "execution_count": null,
   "metadata": {
    "colab": {
     "base_uri": "https://localhost:8080/",
     "height": 487
    },
    "id": "jMZW0cGBr5vj",
    "outputId": "88cf2e24-b314-4e0d-bc12-a0c343ed9220",
    "pycharm": {
     "name": "#%%\n",
     "is_executing": true
    }
   },
   "outputs": [],
   "source": [
    "df.fillna('0')"
   ]
  },
  {
   "cell_type": "code",
   "execution_count": null,
   "metadata": {
    "colab": {
     "base_uri": "https://localhost:8080/"
    },
    "id": "iuZebnqodQJY",
    "outputId": "b857315a-fc75-40a1-ec5f-bf66f1aad1f0",
    "pycharm": {
     "name": "#%%\n",
     "is_executing": true
    }
   },
   "outputs": [],
   "source": [
    "df.info()"
   ]
  },
  {
   "cell_type": "code",
   "execution_count": null,
   "metadata": {
    "colab": {
     "base_uri": "https://localhost:8080/",
     "height": 393
    },
    "id": "j9WNsFOXdcGJ",
    "outputId": "2b3fac28-2c88-499d-bbc1-76553b8cdf81",
    "pycharm": {
     "name": "#%%\n",
     "is_executing": true
    }
   },
   "outputs": [],
   "source": [
    "df.describe()"
   ]
  },
  {
   "cell_type": "code",
   "execution_count": null,
   "metadata": {
    "colab": {
     "base_uri": "https://localhost:8080/"
    },
    "id": "5sbH3XvRdmwS",
    "outputId": "13618dfb-6c0f-4890-c9a1-5096e048a261",
    "pycharm": {
     "name": "#%%\n",
     "is_executing": true
    }
   },
   "outputs": [],
   "source": [
    "df.columns"
   ]
  },
  {
   "cell_type": "code",
   "execution_count": null,
   "metadata": {
    "colab": {
     "base_uri": "https://localhost:8080/",
     "height": 487
    },
    "id": "epGCkZEZR6xQ",
    "outputId": "0bdbabf6-ff12-4797-be57-4df700a9af3c",
    "pycharm": {
     "name": "#%%\n",
     "is_executing": true
    }
   },
   "outputs": [],
   "source": [
    "df.fillna(0)"
   ]
  },
  {
   "cell_type": "markdown",
   "metadata": {
    "id": "9qNzWSU7dwgR",
    "pycharm": {
     "name": "#%% md\n"
    }
   },
   "source": [
    "# ***EDA***"
   ]
  },
  {
   "cell_type": "code",
   "execution_count": null,
   "metadata": {
    "colab": {
     "base_uri": "https://localhost:8080/",
     "height": 387
    },
    "id": "gzBZjI3Fd5tN",
    "outputId": "402fe664-b222-44c5-bbcb-94b2ccde205b",
    "pycharm": {
     "name": "#%%\n",
     "is_executing": true
    }
   },
   "outputs": [],
   "source": [
    "sns.relplot(x='age_at_dendrite_date', y='score', hue='age_at_dendrite_date', size=4, aspect=2, data=df)"
   ]
  },
  {
   "cell_type": "code",
   "execution_count": null,
   "metadata": {
    "colab": {
     "base_uri": "https://localhost:8080/",
     "height": 387
    },
    "id": "NAKBz1rseHxY",
    "outputId": "e5d593b4-e3ab-4137-e7a6-f21c35e46e58",
    "pycharm": {
     "name": "#%%\n",
     "is_executing": true
    }
   },
   "outputs": [],
   "source": [
    "sns.relplot(x='age_at_dendrite_date', y='score', hue='age_at_dendrite_date', size=4, aspect=2, kind='line', data=df)"
   ]
  },
  {
   "cell_type": "code",
   "execution_count": null,
   "metadata": {
    "colab": {
     "base_uri": "https://localhost:8080/",
     "height": 524
    },
    "id": "Y3ySkUhKgjza",
    "outputId": "272c0088-95ea-4712-896a-ce953ce21d36",
    "pycharm": {
     "name": "#%%\n",
     "is_executing": true
    }
   },
   "outputs": [],
   "source": [
    "sns.set(rc = {'figure.figsize':(15,8)})\n",
    "sns.histplot(data=df, x='age_at_dendrite_date', binwidth=3)"
   ]
  },
  {
   "cell_type": "code",
   "execution_count": null,
   "metadata": {
    "colab": {
     "base_uri": "https://localhost:8080/",
     "height": 1000,
     "referenced_widgets": [
      "dca40659562c4b0f9dea224aa8ff30ad",
      "10d7e4d67c56494a85901b7cd89765fd",
      "54a64bd791c04074806f0774a9e13fd0",
      "d463b65ec53641c1b6c0bf72ca2129c0",
      "09a29970442a4692907b8c17756ad5a9",
      "64f92aefac5f46628add09cb504a118b"
     ]
    },
    "id": "rfcArkalmmE7",
    "outputId": "07efeceb-f8f4-4df5-8caf-f2460d6ccd4b",
    "pycharm": {
     "name": "#%%\n",
     "is_executing": true
    }
   },
   "outputs": [],
   "source": [
    "exp = setup(data=df, target='age_at_dendrite_date')"
   ]
  },
  {
   "cell_type": "code",
   "execution_count": null,
   "metadata": {
    "colab": {
     "base_uri": "https://localhost:8080/",
     "height": 792
    },
    "id": "cZQLJZ-QXWsC",
    "outputId": "38fb6a35-09c3-4cf5-f72b-48639ffebf7b",
    "pycharm": {
     "name": "#%%\n",
     "is_executing": true
    }
   },
   "outputs": [],
   "source": [
    "#eda(df, display_format='html')"
   ]
  },
  {
   "cell_type": "code",
   "execution_count": null,
   "metadata": {
    "colab": {
     "base_uri": "https://localhost:8080/",
     "height": 645,
     "referenced_widgets": [
      "2c92ea4535a9429192b519603a6c428f",
      "c48df0f7f5844653a72b25b8a225e468",
      "77200e9b617a46dd9b50ecdca515ab75"
     ]
    },
    "id": "kAk5z8eIsEqv",
    "outputId": "bc98c4f4-5c80-47e7-cb49-3bc9b58e9f8f",
    "pycharm": {
     "name": "#%%\n",
     "is_executing": true
    }
   },
   "outputs": [],
   "source": [
    "best = compare_models(fold=3)"
   ]
  },
  {
   "cell_type": "code",
   "execution_count": null,
   "metadata": {
    "colab": {
     "base_uri": "https://localhost:8080/"
    },
    "id": "ct-k143Jxb0M",
    "outputId": "42d77e30-2133-425d-d443-4d5fc17df934",
    "pycharm": {
     "name": "#%%\n",
     "is_executing": true
    }
   },
   "outputs": [],
   "source": [
    "print(best)"
   ]
  },
  {
   "cell_type": "code",
   "execution_count": null,
   "metadata": {
    "colab": {
     "base_uri": "https://localhost:8080/",
     "height": 676,
     "referenced_widgets": [
      "7eed62a81599430ba97d75e7eda2b6a0",
      "5a996232678f43ffbeed869bac6b297f",
      "8347c41e1cb044ef9dbf12da92a682f5",
      "f15096b6c1f24768ba3f06f53758e113",
      "48505f2eae6d46bf9789f0d1dc555c2a",
      "0cce976b44c447a3ab7b3850d2c398b9",
      "152db09d22164633bcc488f1cfc60c2a",
      "87c8c87d41b84ff5b7c4ad687cbb4526",
      "7c9511028b654ccdb19b0eaa53d7f1c8",
      "22be7c7ce9be434f998a56d3258dde56"
     ]
    },
    "id": "EYUKY45XsN_5",
    "outputId": "72f1b278-25ce-453c-b7f3-9d4f20ef72c8",
    "pycharm": {
     "name": "#%%\n",
     "is_executing": true
    }
   },
   "outputs": [],
   "source": [
    "#click individual tabs to see the visuals\n",
    "evaluate_model(best)"
   ]
  },
  {
   "cell_type": "code",
   "execution_count": null,
   "metadata": {
    "id": "VA1Eik2Iw5v8",
    "colab": {
     "base_uri": "https://localhost:8080/",
     "height": 507
    },
    "outputId": "fc067cb8-e4c9-46fc-81cd-d19658976f56",
    "pycharm": {
     "name": "#%%\n",
     "is_executing": true
    }
   },
   "outputs": [],
   "source": [
    "predict_model(best)"
   ]
  },
  {
   "cell_type": "code",
   "execution_count": null,
   "metadata": {
    "id": "alIGQlOZx_qE",
    "colab": {
     "base_uri": "https://localhost:8080/",
     "height": 319
    },
    "outputId": "2049ff91-f7ec-484c-dca8-f8849ef0cbae",
    "pycharm": {
     "name": "#%%\n",
     "is_executing": true
    }
   },
   "outputs": [],
   "source": [
    "predictions = predict_model(best, data=df)\n",
    "predictions.head()"
   ]
  },
  {
   "cell_type": "markdown",
   "metadata": {
    "id": "TAuH0WAHHLBT",
    "pycharm": {
     "name": "#%% md\n"
    }
   },
   "source": [
    "# **Stacker Model**"
   ]
  },
  {
   "cell_type": "code",
   "execution_count": null,
   "metadata": {
    "id": "rN9-sjICHOaR",
    "colab": {
     "base_uri": "https://localhost:8080/",
     "height": 237,
     "referenced_widgets": [
      "a2e3dddaaa134c64812d8455237dd35b",
      "3b4ca5ab79584719be74f9dec357c562",
      "b9486e97797e4cb9995135300bde00bd",
      "aa6fe127002545c49664389ef772bd10",
      "069b633460634c42bc7e265a3d1801bd",
      "6331113af9364e9fac7106734d0b5aa3"
     ]
    },
    "outputId": "d333b438-4ba9-4c90-fe79-eeef4cacc70a",
    "pycharm": {
     "name": "#%%\n",
     "is_executing": true
    }
   },
   "outputs": [],
   "source": [
    "rf = create_model('rf', fold=3)\n",
    "light = create_model('lightgbm', fold=3)\n",
    "gbr = create_model('gbr', fold=3)"
   ]
  },
  {
   "cell_type": "code",
   "execution_count": null,
   "metadata": {
    "id": "2Wl-b-cFOs_w",
    "colab": {
     "base_uri": "https://localhost:8080/",
     "height": 237,
     "referenced_widgets": [
      "1d801dc432824c7094b978184d835dab",
      "c8356bb118454b3aa33081db2eecd82d",
      "d7c493cfd6f040b8a2e49bfa612b8098"
     ]
    },
    "outputId": "81b77840-eb5f-4995-824c-6ffeee50bc5a",
    "pycharm": {
     "name": "#%%\n",
     "is_executing": true
    }
   },
   "outputs": [],
   "source": [
    "stacker = stack_models([rf, light, gbr], fold=3)\n"
   ]
  },
  {
   "cell_type": "code",
   "execution_count": null,
   "metadata": {
    "id": "_-6lIG6RO_L6",
    "colab": {
     "base_uri": "https://localhost:8080/",
     "height": 319
    },
    "outputId": "f2f765bb-d1cf-48bb-de9b-cc7c74bcc406",
    "pycharm": {
     "name": "#%%\n",
     "is_executing": true
    }
   },
   "outputs": [],
   "source": [
    "predictions_stacked = predict_model(stacker, data=df)\n",
    "predictions_stacked.head()"
   ]
  },
  {
   "cell_type": "markdown",
   "source": [
    "# **Logistic Regression**"
   ],
   "metadata": {
    "id": "zWi_RH3-Cne2",
    "pycharm": {
     "name": "#%% md\n"
    }
   }
  },
  {
   "cell_type": "code",
   "source": [
    "lr = create_model('lr')"
   ],
   "metadata": {
    "id": "I8u5ygpvCsK6",
    "pycharm": {
     "name": "#%%\n",
     "is_executing": true
    }
   },
   "execution_count": null,
   "outputs": []
  },
  {
   "cell_type": "code",
   "source": [
    "lr_predictions = predict_model(lr, data=df)"
   ],
   "metadata": {
    "id": "Iu1Mh9n7C2BE",
    "pycharm": {
     "name": "#%%\n",
     "is_executing": true
    }
   },
   "execution_count": null,
   "outputs": []
  },
  {
   "cell_type": "code",
   "source": [
    "lr_predictions.head()"
   ],
   "metadata": {
    "id": "A7EVOQsgDDv5",
    "pycharm": {
     "name": "#%%\n",
     "is_executing": true
    }
   },
   "execution_count": null,
   "outputs": []
  },
  {
   "cell_type": "code",
   "source": [
    "dashboard(lr, display_format='inline')"
   ],
   "metadata": {
    "id": "Km6VSQrPDLlV",
    "pycharm": {
     "name": "#%%\n",
     "is_executing": true
    }
   },
   "execution_count": null,
   "outputs": []
  },
  {
   "cell_type": "code",
   "execution_count": 1,
   "metadata": {
    "id": "0TtajLp6POIG",
    "pycharm": {
     "name": "#%%\n"
    }
   },
   "outputs": [],
   "source": [
    "#Only run if you have high RAM and access to a GPU / TPU\n",
    "#dashboard(stacker, display_format='inline')"
   ]
  },
  {
   "cell_type": "markdown",
   "metadata": {
    "id": "ToyXWAAmMAHo",
    "pycharm": {
     "name": "#%% md\n"
    }
   },
   "source": [
    "<a style='text-decoration:none;line-height:16px;display:flex;color:#5B5B62;padding:10px;justify-content:end;' href='https://deepnote.com?utm_source=created-in-deepnote-cell&projectId=41964815-92ff-4e81-9cfa-1730814b75b4' target=\"_blank\">\n",
    "<img alt='Created in deepnote.com' style='display:inline;max-height:16px;margin:0px;margin-right:7.5px;' src='data:image/svg+xml;base64,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' > </img>\n",
    "Created in <span style='font-weight:600;margin-left:4px;'>Deepnote</span></a>"
   ]
  }
 ],
 "metadata": {
  "accelerator": "TPU",
  "colab": {
   "collapsed_sections": [],
   "name": "Regression_w_new_dataset (1).ipynb",
   "provenance": []
  },
  "deepnote": {},
  "deepnote_execution_queue": [],
  "deepnote_notebook_id": "7fb99c9b-e6c1-4ea0-8585-99ae2dc0aecb",
  "kernelspec": {
   "display_name": "Python 3",
   "name": "python3"
  },
  "language_info": {
   "name": "python"
  },
  "widgets": {
   "application/vnd.jupyter.widget-state+json": {
    "dca40659562c4b0f9dea224aa8ff30ad": {
     "model_module": "@jupyter-widgets/controls",
     "model_name": "IntProgressModel",
     "model_module_version": "1.5.0",
     "state": {
      "_dom_classes": [],
      "_model_module": "@jupyter-widgets/controls",
      "_model_module_version": "1.5.0",
      "_model_name": "IntProgressModel",
      "_view_count": null,
      "_view_module": "@jupyter-widgets/controls",
      "_view_module_version": "1.5.0",
      "_view_name": "ProgressView",
      "bar_style": "",
      "description": "Processing: ",
      "description_tooltip": null,
      "layout": "IPY_MODEL_10d7e4d67c56494a85901b7cd89765fd",
      "max": 3,
      "min": 0,
      "orientation": "horizontal",
      "style": "IPY_MODEL_54a64bd791c04074806f0774a9e13fd0",
      "value": 3
     }
    },
    "10d7e4d67c56494a85901b7cd89765fd": {
     "model_module": "@jupyter-widgets/base",
     "model_name": "LayoutModel",
     "model_module_version": "1.2.0",
     "state": {
      "_model_module": "@jupyter-widgets/base",
      "_model_module_version": "1.2.0",
      "_model_name": "LayoutModel",
      "_view_count": null,
      "_view_module": "@jupyter-widgets/base",
      "_view_module_version": "1.2.0",
      "_view_name": "LayoutView",
      "align_content": null,
      "align_items": null,
      "align_self": null,
      "border": null,
      "bottom": null,
      "display": null,
      "flex": null,
      "flex_flow": null,
      "grid_area": null,
      "grid_auto_columns": null,
      "grid_auto_flow": null,
      "grid_auto_rows": null,
      "grid_column": null,
      "grid_gap": null,
      "grid_row": null,
      "grid_template_areas": null,
      "grid_template_columns": null,
      "grid_template_rows": null,
      "height": null,
      "justify_content": null,
      "justify_items": null,
      "left": null,
      "margin": null,
      "max_height": null,
      "max_width": null,
      "min_height": null,
      "min_width": null,
      "object_fit": null,
      "object_position": null,
      "order": null,
      "overflow": null,
      "overflow_x": null,
      "overflow_y": null,
      "padding": null,
      "right": null,
      "top": null,
      "visibility": null,
      "width": null
     }
    },
    "54a64bd791c04074806f0774a9e13fd0": {
     "model_module": "@jupyter-widgets/controls",
     "model_name": "ProgressStyleModel",
     "model_module_version": "1.5.0",
     "state": {
      "_model_module": "@jupyter-widgets/controls",
      "_model_module_version": "1.5.0",
      "_model_name": "ProgressStyleModel",
      "_view_count": null,
      "_view_module": "@jupyter-widgets/base",
      "_view_module_version": "1.2.0",
      "_view_name": "StyleView",
      "bar_color": null,
      "description_width": ""
     }
    },
    "d463b65ec53641c1b6c0bf72ca2129c0": {
     "model_module": "@jupyter-widgets/controls",
     "model_name": "TextModel",
     "model_module_version": "1.5.0",
     "state": {
      "_dom_classes": [],
      "_model_module": "@jupyter-widgets/controls",
      "_model_module_version": "1.5.0",
      "_model_name": "TextModel",
      "_view_count": null,
      "_view_module": "@jupyter-widgets/controls",
      "_view_module_version": "1.5.0",
      "_view_name": "TextView",
      "continuous_update": true,
      "description": "",
      "description_tooltip": null,
      "disabled": false,
      "layout": "IPY_MODEL_09a29970442a4692907b8c17756ad5a9",
      "placeholder": "​",
      "style": "IPY_MODEL_64f92aefac5f46628add09cb504a118b",
      "value": "Following data types have been inferred automatically, if they are correct press enter to continue or type 'quit' otherwise."
     }
    },
    "09a29970442a4692907b8c17756ad5a9": {
     "model_module": "@jupyter-widgets/base",
     "model_name": "LayoutModel",
     "model_module_version": "1.2.0",
     "state": {
      "_model_module": "@jupyter-widgets/base",
      "_model_module_version": "1.2.0",
      "_model_name": "LayoutModel",
      "_view_count": null,
      "_view_module": "@jupyter-widgets/base",
      "_view_module_version": "1.2.0",
      "_view_name": "LayoutView",
      "align_content": null,
      "align_items": null,
      "align_self": null,
      "border": null,
      "bottom": null,
      "display": null,
      "flex": null,
      "flex_flow": null,
      "grid_area": null,
      "grid_auto_columns": null,
      "grid_auto_flow": null,
      "grid_auto_rows": null,
      "grid_column": null,
      "grid_gap": null,
      "grid_row": null,
      "grid_template_areas": null,
      "grid_template_columns": null,
      "grid_template_rows": null,
      "height": null,
      "justify_content": null,
      "justify_items": null,
      "left": null,
      "margin": null,
      "max_height": null,
      "max_width": null,
      "min_height": null,
      "min_width": null,
      "object_fit": null,
      "object_position": null,
      "order": null,
      "overflow": null,
      "overflow_x": null,
      "overflow_y": null,
      "padding": null,
      "right": null,
      "top": null,
      "visibility": null,
      "width": "100%"
     }
    },
    "64f92aefac5f46628add09cb504a118b": {
     "model_module": "@jupyter-widgets/controls",
     "model_name": "DescriptionStyleModel",
     "model_module_version": "1.5.0",
     "state": {
      "_model_module": "@jupyter-widgets/controls",
      "_model_module_version": "1.5.0",
      "_model_name": "DescriptionStyleModel",
      "_view_count": null,
      "_view_module": "@jupyter-widgets/base",
      "_view_module_version": "1.2.0",
      "_view_name": "StyleView",
      "description_width": ""
     }
    },
    "2c92ea4535a9429192b519603a6c428f": {
     "model_module": "@jupyter-widgets/controls",
     "model_name": "IntProgressModel",
     "model_module_version": "1.5.0",
     "state": {
      "_dom_classes": [],
      "_model_module": "@jupyter-widgets/controls",
      "_model_module_version": "1.5.0",
      "_model_name": "IntProgressModel",
      "_view_count": null,
      "_view_module": "@jupyter-widgets/controls",
      "_view_module_version": "1.5.0",
      "_view_name": "ProgressView",
      "bar_style": "",
      "description": "Processing: ",
      "description_tooltip": null,
      "layout": "IPY_MODEL_c48df0f7f5844653a72b25b8a225e468",
      "max": 104,
      "min": 0,
      "orientation": "horizontal",
      "style": "IPY_MODEL_77200e9b617a46dd9b50ecdca515ab75",
      "value": 104
     }
    },
    "c48df0f7f5844653a72b25b8a225e468": {
     "model_module": "@jupyter-widgets/base",
     "model_name": "LayoutModel",
     "model_module_version": "1.2.0",
     "state": {
      "_model_module": "@jupyter-widgets/base",
      "_model_module_version": "1.2.0",
      "_model_name": "LayoutModel",
      "_view_count": null,
      "_view_module": "@jupyter-widgets/base",
      "_view_module_version": "1.2.0",
      "_view_name": "LayoutView",
      "align_content": null,
      "align_items": null,
      "align_self": null,
      "border": null,
      "bottom": null,
      "display": null,
      "flex": null,
      "flex_flow": null,
      "grid_area": null,
      "grid_auto_columns": null,
      "grid_auto_flow": null,
      "grid_auto_rows": null,
      "grid_column": null,
      "grid_gap": null,
      "grid_row": null,
      "grid_template_areas": null,
      "grid_template_columns": null,
      "grid_template_rows": null,
      "height": null,
      "justify_content": null,
      "justify_items": null,
      "left": null,
      "margin": null,
      "max_height": null,
      "max_width": null,
      "min_height": null,
      "min_width": null,
      "object_fit": null,
      "object_position": null,
      "order": null,
      "overflow": null,
      "overflow_x": null,
      "overflow_y": null,
      "padding": null,
      "right": null,
      "top": null,
      "visibility": null,
      "width": null
     }
    },
    "77200e9b617a46dd9b50ecdca515ab75": {
     "model_module": "@jupyter-widgets/controls",
     "model_name": "ProgressStyleModel",
     "model_module_version": "1.5.0",
     "state": {
      "_model_module": "@jupyter-widgets/controls",
      "_model_module_version": "1.5.0",
      "_model_name": "ProgressStyleModel",
      "_view_count": null,
      "_view_module": "@jupyter-widgets/base",
      "_view_module_version": "1.2.0",
      "_view_name": "StyleView",
      "bar_color": null,
      "description_width": ""
     }
    },
    "7eed62a81599430ba97d75e7eda2b6a0": {
     "model_module": "@jupyter-widgets/controls",
     "model_name": "VBoxModel",
     "model_module_version": "1.5.0",
     "state": {
      "_dom_classes": [
       "widget-interact"
      ],
      "_model_module": "@jupyter-widgets/controls",
      "_model_module_version": "1.5.0",
      "_model_name": "VBoxModel",
      "_view_count": null,
      "_view_module": "@jupyter-widgets/controls",
      "_view_module_version": "1.5.0",
      "_view_name": "VBoxView",
      "box_style": "",
      "children": [
       "IPY_MODEL_5a996232678f43ffbeed869bac6b297f",
       "IPY_MODEL_8347c41e1cb044ef9dbf12da92a682f5"
      ],
      "layout": "IPY_MODEL_f15096b6c1f24768ba3f06f53758e113"
     }
    },
    "5a996232678f43ffbeed869bac6b297f": {
     "model_module": "@jupyter-widgets/controls",
     "model_name": "ToggleButtonsModel",
     "model_module_version": "1.5.0",
     "state": {
      "_dom_classes": [],
      "_model_module": "@jupyter-widgets/controls",
      "_model_module_version": "1.5.0",
      "_model_name": "ToggleButtonsModel",
      "_options_labels": [
       "Hyperparameters",
       "Residuals",
       "Prediction Error",
       "Cooks Distance",
       "Feature Selection",
       "Learning Curve",
       "Manifold Learning",
       "Validation Curve",
       "Feature Importance",
       "Feature Importance (All)",
       "Decision Tree",
       "Interactive Residuals"
      ],
      "_view_count": null,
      "_view_module": "@jupyter-widgets/controls",
      "_view_module_version": "1.5.0",
      "_view_name": "ToggleButtonsView",
      "button_style": "",
      "description": "Plot Type:",
      "description_tooltip": null,
      "disabled": false,
      "icons": [
       ""
      ],
      "index": 0,
      "layout": "IPY_MODEL_48505f2eae6d46bf9789f0d1dc555c2a",
      "style": "IPY_MODEL_0cce976b44c447a3ab7b3850d2c398b9",
      "tooltips": []
     }
    },
    "8347c41e1cb044ef9dbf12da92a682f5": {
     "model_module": "@jupyter-widgets/output",
     "model_name": "OutputModel",
     "model_module_version": "1.0.0",
     "state": {
      "_dom_classes": [],
      "_model_module": "@jupyter-widgets/output",
      "_model_module_version": "1.0.0",
      "_model_name": "OutputModel",
      "_view_count": null,
      "_view_module": "@jupyter-widgets/output",
      "_view_module_version": "1.0.0",
      "_view_name": "OutputView",
      "layout": "IPY_MODEL_152db09d22164633bcc488f1cfc60c2a",
      "msg_id": "",
      "outputs": [
       {
        "output_type": "display_data",
        "data": {
         "text/plain": "                         Parameters\nbootstrap                      True\nccp_alpha                       0.0\ncriterion                       mse\nmax_depth                      None\nmax_features                   auto\nmax_leaf_nodes                 None\nmax_samples                    None\nmin_impurity_decrease           0.0\nmin_impurity_split             None\nmin_samples_leaf                  1\nmin_samples_split                 2\nmin_weight_fraction_leaf        0.0\nn_estimators                    100\nn_jobs                           -1\noob_score                     False\nrandom_state                   4373\nverbose                           0\nwarm_start                    False",
         "text/html": "\n  <div id=\"df-9c81bce9-f3a1-4639-bb62-9c61872e8935\">\n    <div class=\"colab-df-container\">\n      <div>\n<style scoped>\n    .dataframe tbody tr th:only-of-type {\n        vertical-align: middle;\n    }\n\n    .dataframe tbody tr th {\n        vertical-align: top;\n    }\n\n    .dataframe thead th {\n        text-align: right;\n    }\n</style>\n<table border=\"1\" class=\"dataframe\">\n  <thead>\n    <tr style=\"text-align: right;\">\n      <th></th>\n      <th>Parameters</th>\n    </tr>\n  </thead>\n  <tbody>\n    <tr>\n      <th>bootstrap</th>\n      <td>True</td>\n    </tr>\n    <tr>\n      <th>ccp_alpha</th>\n      <td>0.0</td>\n    </tr>\n    <tr>\n      <th>criterion</th>\n      <td>mse</td>\n    </tr>\n    <tr>\n      <th>max_depth</th>\n      <td>None</td>\n    </tr>\n    <tr>\n      <th>max_features</th>\n      <td>auto</td>\n    </tr>\n    <tr>\n      <th>max_leaf_nodes</th>\n      <td>None</td>\n    </tr>\n    <tr>\n      <th>max_samples</th>\n      <td>None</td>\n    </tr>\n    <tr>\n      <th>min_impurity_decrease</th>\n      <td>0.0</td>\n    </tr>\n    <tr>\n      <th>min_impurity_split</th>\n      <td>None</td>\n    </tr>\n    <tr>\n      <th>min_samples_leaf</th>\n      <td>1</td>\n    </tr>\n    <tr>\n      <th>min_samples_split</th>\n      <td>2</td>\n    </tr>\n    <tr>\n      <th>min_weight_fraction_leaf</th>\n      <td>0.0</td>\n    </tr>\n    <tr>\n      <th>n_estimators</th>\n      <td>100</td>\n    </tr>\n    <tr>\n      <th>n_jobs</th>\n      <td>-1</td>\n    </tr>\n    <tr>\n      <th>oob_score</th>\n      <td>False</td>\n    </tr>\n    <tr>\n      <th>random_state</th>\n      <td>4373</td>\n    </tr>\n    <tr>\n      <th>verbose</th>\n      <td>0</td>\n    </tr>\n    <tr>\n      <th>warm_start</th>\n      <td>False</td>\n    </tr>\n  </tbody>\n</table>\n</div>\n      <button class=\"colab-df-convert\" onclick=\"convertToInteractive('df-9c81bce9-f3a1-4639-bb62-9c61872e8935')\"\n              title=\"Convert this dataframe to an interactive table.\"\n              style=\"display:none;\">\n        \n  <svg xmlns=\"http://www.w3.org/2000/svg\" height=\"24px\"viewBox=\"0 0 24 24\"\n       width=\"24px\">\n    <path d=\"M0 0h24v24H0V0z\" fill=\"none\"/>\n    <path d=\"M18.56 5.44l.94 2.06.94-2.06 2.06-.94-2.06-.94-.94-2.06-.94 2.06-2.06.94zm-11 1L8.5 8.5l.94-2.06 2.06-.94-2.06-.94L8.5 2.5l-.94 2.06-2.06.94zm10 10l.94 2.06.94-2.06 2.06-.94-2.06-.94-.94-2.06-.94 2.06-2.06.94z\"/><path d=\"M17.41 7.96l-1.37-1.37c-.4-.4-.92-.59-1.43-.59-.52 0-1.04.2-1.43.59L10.3 9.45l-7.72 7.72c-.78.78-.78 2.05 0 2.83L4 21.41c.39.39.9.59 1.41.59.51 0 1.02-.2 1.41-.59l7.78-7.78 2.81-2.81c.8-.78.8-2.07 0-2.86zM5.41 20L4 18.59l7.72-7.72 1.47 1.35L5.41 20z\"/>\n  </svg>\n      </button>\n      \n  <style>\n    .colab-df-container {\n      display:flex;\n      flex-wrap:wrap;\n      gap: 12px;\n    }\n\n    .colab-df-convert {\n      background-color: #E8F0FE;\n      border: none;\n      border-radius: 50%;\n      cursor: pointer;\n      display: none;\n      fill: #1967D2;\n      height: 32px;\n      padding: 0 0 0 0;\n      width: 32px;\n    }\n\n    .colab-df-convert:hover {\n      background-color: #E2EBFA;\n      box-shadow: 0px 1px 2px rgba(60, 64, 67, 0.3), 0px 1px 3px 1px rgba(60, 64, 67, 0.15);\n      fill: #174EA6;\n    }\n\n    [theme=dark] .colab-df-convert {\n      background-color: #3B4455;\n      fill: #D2E3FC;\n    }\n\n    [theme=dark] .colab-df-convert:hover {\n      background-color: #434B5C;\n      box-shadow: 0px 1px 3px 1px rgba(0, 0, 0, 0.15);\n      filter: drop-shadow(0px 1px 2px rgba(0, 0, 0, 0.3));\n      fill: #FFFFFF;\n    }\n  </style>\n\n      <script>\n        const buttonEl =\n          document.querySelector('#df-9c81bce9-f3a1-4639-bb62-9c61872e8935 button.colab-df-convert');\n        buttonEl.style.display =\n          google.colab.kernel.accessAllowed ? 'block' : 'none';\n\n        async function convertToInteractive(key) {\n          const element = document.querySelector('#df-9c81bce9-f3a1-4639-bb62-9c61872e8935');\n          const dataTable =\n            await google.colab.kernel.invokeFunction('convertToInteractive',\n                                                     [key], {});\n          if (!dataTable) return;\n\n          const docLinkHtml = 'Like what you see? Visit the ' +\n            '<a target=\"_blank\" href=https://colab.research.google.com/notebooks/data_table.ipynb>data table notebook</a>'\n            + ' to learn more about interactive tables.';\n          element.innerHTML = '';\n          dataTable['output_type'] = 'display_data';\n          await google.colab.output.renderOutput(dataTable, element);\n          const docLink = document.createElement('div');\n          docLink.innerHTML = docLinkHtml;\n          element.appendChild(docLink);\n        }\n      </script>\n    </div>\n  </div>\n  "
        },
        "metadata": {}
       }
      ]
     }
    },
    "f15096b6c1f24768ba3f06f53758e113": {
     "model_module": "@jupyter-widgets/base",
     "model_name": "LayoutModel",
     "model_module_version": "1.2.0",
     "state": {
      "_model_module": "@jupyter-widgets/base",
      "_model_module_version": "1.2.0",
      "_model_name": "LayoutModel",
      "_view_count": null,
      "_view_module": "@jupyter-widgets/base",
      "_view_module_version": "1.2.0",
      "_view_name": "LayoutView",
      "align_content": null,
      "align_items": null,
      "align_self": null,
      "border": null,
      "bottom": null,
      "display": null,
      "flex": null,
      "flex_flow": null,
      "grid_area": null,
      "grid_auto_columns": null,
      "grid_auto_flow": null,
      "grid_auto_rows": null,
      "grid_column": null,
      "grid_gap": null,
      "grid_row": null,
      "grid_template_areas": null,
      "grid_template_columns": null,
      "grid_template_rows": null,
      "height": null,
      "justify_content": null,
      "justify_items": null,
      "left": null,
      "margin": null,
      "max_height": null,
      "max_width": null,
      "min_height": null,
      "min_width": null,
      "object_fit": null,
      "object_position": null,
      "order": null,
      "overflow": null,
      "overflow_x": null,
      "overflow_y": null,
      "padding": null,
      "right": null,
      "top": null,
      "visibility": null,
      "width": null
     }
    },
    "48505f2eae6d46bf9789f0d1dc555c2a": {
     "model_module": "@jupyter-widgets/base",
     "model_name": "LayoutModel",
     "model_module_version": "1.2.0",
     "state": {
      "_model_module": "@jupyter-widgets/base",
      "_model_module_version": "1.2.0",
      "_model_name": "LayoutModel",
      "_view_count": null,
      "_view_module": "@jupyter-widgets/base",
      "_view_module_version": "1.2.0",
      "_view_name": "LayoutView",
      "align_content": null,
      "align_items": null,
      "align_self": null,
      "border": null,
      "bottom": null,
      "display": null,
      "flex": null,
      "flex_flow": null,
      "grid_area": null,
      "grid_auto_columns": null,
      "grid_auto_flow": null,
      "grid_auto_rows": null,
      "grid_column": null,
      "grid_gap": null,
      "grid_row": null,
      "grid_template_areas": null,
      "grid_template_columns": null,
      "grid_template_rows": null,
      "height": null,
      "justify_content": null,
      "justify_items": null,
      "left": null,
      "margin": null,
      "max_height": null,
      "max_width": null,
      "min_height": null,
      "min_width": null,
      "object_fit": null,
      "object_position": null,
      "order": null,
      "overflow": null,
      "overflow_x": null,
      "overflow_y": null,
      "padding": null,
      "right": null,
      "top": null,
      "visibility": null,
      "width": null
     }
    },
    "0cce976b44c447a3ab7b3850d2c398b9": {
     "model_module": "@jupyter-widgets/controls",
     "model_name": "ToggleButtonsStyleModel",
     "model_module_version": "1.5.0",
     "state": {
      "_model_module": "@jupyter-widgets/controls",
      "_model_module_version": "1.5.0",
      "_model_name": "ToggleButtonsStyleModel",
      "_view_count": null,
      "_view_module": "@jupyter-widgets/base",
      "_view_module_version": "1.2.0",
      "_view_name": "StyleView",
      "button_width": "",
      "description_width": "",
      "font_weight": ""
     }
    },
    "152db09d22164633bcc488f1cfc60c2a": {
     "model_module": "@jupyter-widgets/base",
     "model_name": "LayoutModel",
     "model_module_version": "1.2.0",
     "state": {
      "_model_module": "@jupyter-widgets/base",
      "_model_module_version": "1.2.0",
      "_model_name": "LayoutModel",
      "_view_count": null,
      "_view_module": "@jupyter-widgets/base",
      "_view_module_version": "1.2.0",
      "_view_name": "LayoutView",
      "align_content": null,
      "align_items": null,
      "align_self": null,
      "border": null,
      "bottom": null,
      "display": null,
      "flex": null,
      "flex_flow": null,
      "grid_area": null,
      "grid_auto_columns": null,
      "grid_auto_flow": null,
      "grid_auto_rows": null,
      "grid_column": null,
      "grid_gap": null,
      "grid_row": null,
      "grid_template_areas": null,
      "grid_template_columns": null,
      "grid_template_rows": null,
      "height": null,
      "justify_content": null,
      "justify_items": null,
      "left": null,
      "margin": null,
      "max_height": null,
      "max_width": null,
      "min_height": null,
      "min_width": null,
      "object_fit": null,
      "object_position": null,
      "order": null,
      "overflow": null,
      "overflow_x": null,
      "overflow_y": null,
      "padding": null,
      "right": null,
      "top": null,
      "visibility": null,
      "width": null
     }
    },
    "87c8c87d41b84ff5b7c4ad687cbb4526": {
     "model_module": "@jupyter-widgets/controls",
     "model_name": "IntProgressModel",
     "model_module_version": "1.5.0",
     "state": {
      "_dom_classes": [],
      "_model_module": "@jupyter-widgets/controls",
      "_model_module_version": "1.5.0",
      "_model_name": "IntProgressModel",
      "_view_count": null,
      "_view_module": "@jupyter-widgets/controls",
      "_view_module_version": "1.5.0",
      "_view_name": "ProgressView",
      "bar_style": "",
      "description": "Processing: ",
      "description_tooltip": null,
      "layout": "IPY_MODEL_7c9511028b654ccdb19b0eaa53d7f1c8",
      "max": 5,
      "min": 0,
      "orientation": "horizontal",
      "style": "IPY_MODEL_22be7c7ce9be434f998a56d3258dde56",
      "value": 3
     }
    },
    "7c9511028b654ccdb19b0eaa53d7f1c8": {
     "model_module": "@jupyter-widgets/base",
     "model_name": "LayoutModel",
     "model_module_version": "1.2.0",
     "state": {
      "_model_module": "@jupyter-widgets/base",
      "_model_module_version": "1.2.0",
      "_model_name": "LayoutModel",
      "_view_count": null,
      "_view_module": "@jupyter-widgets/base",
      "_view_module_version": "1.2.0",
      "_view_name": "LayoutView",
      "align_content": null,
      "align_items": null,
      "align_self": null,
      "border": null,
      "bottom": null,
      "display": null,
      "flex": null,
      "flex_flow": null,
      "grid_area": null,
      "grid_auto_columns": null,
      "grid_auto_flow": null,
      "grid_auto_rows": null,
      "grid_column": null,
      "grid_gap": null,
      "grid_row": null,
      "grid_template_areas": null,
      "grid_template_columns": null,
      "grid_template_rows": null,
      "height": null,
      "justify_content": null,
      "justify_items": null,
      "left": null,
      "margin": null,
      "max_height": null,
      "max_width": null,
      "min_height": null,
      "min_width": null,
      "object_fit": null,
      "object_position": null,
      "order": null,
      "overflow": null,
      "overflow_x": null,
      "overflow_y": null,
      "padding": null,
      "right": null,
      "top": null,
      "visibility": null,
      "width": null
     }
    },
    "22be7c7ce9be434f998a56d3258dde56": {
     "model_module": "@jupyter-widgets/controls",
     "model_name": "ProgressStyleModel",
     "model_module_version": "1.5.0",
     "state": {
      "_model_module": "@jupyter-widgets/controls",
      "_model_module_version": "1.5.0",
      "_model_name": "ProgressStyleModel",
      "_view_count": null,
      "_view_module": "@jupyter-widgets/base",
      "_view_module_version": "1.2.0",
      "_view_name": "StyleView",
      "bar_color": null,
      "description_width": ""
     }
    },
    "a2e3dddaaa134c64812d8455237dd35b": {
     "model_module": "@jupyter-widgets/controls",
     "model_name": "IntProgressModel",
     "model_module_version": "1.5.0",
     "state": {
      "_dom_classes": [],
      "_model_module": "@jupyter-widgets/controls",
      "_model_module_version": "1.5.0",
      "_model_name": "IntProgressModel",
      "_view_count": null,
      "_view_module": "@jupyter-widgets/controls",
      "_view_module_version": "1.5.0",
      "_view_name": "ProgressView",
      "bar_style": "",
      "description": "Processing: ",
      "description_tooltip": null,
      "layout": "IPY_MODEL_3b4ca5ab79584719be74f9dec357c562",
      "max": 4,
      "min": 0,
      "orientation": "horizontal",
      "style": "IPY_MODEL_b9486e97797e4cb9995135300bde00bd",
      "value": 4
     }
    },
    "3b4ca5ab79584719be74f9dec357c562": {
     "model_module": "@jupyter-widgets/base",
     "model_name": "LayoutModel",
     "model_module_version": "1.2.0",
     "state": {
      "_model_module": "@jupyter-widgets/base",
      "_model_module_version": "1.2.0",
      "_model_name": "LayoutModel",
      "_view_count": null,
      "_view_module": "@jupyter-widgets/base",
      "_view_module_version": "1.2.0",
      "_view_name": "LayoutView",
      "align_content": null,
      "align_items": null,
      "align_self": null,
      "border": null,
      "bottom": null,
      "display": null,
      "flex": null,
      "flex_flow": null,
      "grid_area": null,
      "grid_auto_columns": null,
      "grid_auto_flow": null,
      "grid_auto_rows": null,
      "grid_column": null,
      "grid_gap": null,
      "grid_row": null,
      "grid_template_areas": null,
      "grid_template_columns": null,
      "grid_template_rows": null,
      "height": null,
      "justify_content": null,
      "justify_items": null,
      "left": null,
      "margin": null,
      "max_height": null,
      "max_width": null,
      "min_height": null,
      "min_width": null,
      "object_fit": null,
      "object_position": null,
      "order": null,
      "overflow": null,
      "overflow_x": null,
      "overflow_y": null,
      "padding": null,
      "right": null,
      "top": null,
      "visibility": null,
      "width": null
     }
    },
    "b9486e97797e4cb9995135300bde00bd": {
     "model_module": "@jupyter-widgets/controls",
     "model_name": "ProgressStyleModel",
     "model_module_version": "1.5.0",
     "state": {
      "_model_module": "@jupyter-widgets/controls",
      "_model_module_version": "1.5.0",
      "_model_name": "ProgressStyleModel",
      "_view_count": null,
      "_view_module": "@jupyter-widgets/base",
      "_view_module_version": "1.2.0",
      "_view_name": "StyleView",
      "bar_color": null,
      "description_width": ""
     }
    },
    "aa6fe127002545c49664389ef772bd10": {
     "model_module": "@jupyter-widgets/controls",
     "model_name": "IntProgressModel",
     "model_module_version": "1.5.0",
     "state": {
      "_dom_classes": [],
      "_model_module": "@jupyter-widgets/controls",
      "_model_module_version": "1.5.0",
      "_model_name": "IntProgressModel",
      "_view_count": null,
      "_view_module": "@jupyter-widgets/controls",
      "_view_module_version": "1.5.0",
      "_view_name": "ProgressView",
      "bar_style": "",
      "description": "Processing: ",
      "description_tooltip": null,
      "layout": "IPY_MODEL_069b633460634c42bc7e265a3d1801bd",
      "max": 4,
      "min": 0,
      "orientation": "horizontal",
      "style": "IPY_MODEL_6331113af9364e9fac7106734d0b5aa3",
      "value": 4
     }
    },
    "069b633460634c42bc7e265a3d1801bd": {
     "model_module": "@jupyter-widgets/base",
     "model_name": "LayoutModel",
     "model_module_version": "1.2.0",
     "state": {
      "_model_module": "@jupyter-widgets/base",
      "_model_module_version": "1.2.0",
      "_model_name": "LayoutModel",
      "_view_count": null,
      "_view_module": "@jupyter-widgets/base",
      "_view_module_version": "1.2.0",
      "_view_name": "LayoutView",
      "align_content": null,
      "align_items": null,
      "align_self": null,
      "border": null,
      "bottom": null,
      "display": null,
      "flex": null,
      "flex_flow": null,
      "grid_area": null,
      "grid_auto_columns": null,
      "grid_auto_flow": null,
      "grid_auto_rows": null,
      "grid_column": null,
      "grid_gap": null,
      "grid_row": null,
      "grid_template_areas": null,
      "grid_template_columns": null,
      "grid_template_rows": null,
      "height": null,
      "justify_content": null,
      "justify_items": null,
      "left": null,
      "margin": null,
      "max_height": null,
      "max_width": null,
      "min_height": null,
      "min_width": null,
      "object_fit": null,
      "object_position": null,
      "order": null,
      "overflow": null,
      "overflow_x": null,
      "overflow_y": null,
      "padding": null,
      "right": null,
      "top": null,
      "visibility": null,
      "width": null
     }
    },
    "6331113af9364e9fac7106734d0b5aa3": {
     "model_module": "@jupyter-widgets/controls",
     "model_name": "ProgressStyleModel",
     "model_module_version": "1.5.0",
     "state": {
      "_model_module": "@jupyter-widgets/controls",
      "_model_module_version": "1.5.0",
      "_model_name": "ProgressStyleModel",
      "_view_count": null,
      "_view_module": "@jupyter-widgets/base",
      "_view_module_version": "1.2.0",
      "_view_name": "StyleView",
      "bar_color": null,
      "description_width": ""
     }
    },
    "1d801dc432824c7094b978184d835dab": {
     "model_module": "@jupyter-widgets/controls",
     "model_name": "IntProgressModel",
     "model_module_version": "1.5.0",
     "state": {
      "_dom_classes": [],
      "_model_module": "@jupyter-widgets/controls",
      "_model_module_version": "1.5.0",
      "_model_name": "IntProgressModel",
      "_view_count": null,
      "_view_module": "@jupyter-widgets/controls",
      "_view_module_version": "1.5.0",
      "_view_name": "ProgressView",
      "bar_style": "",
      "description": "Processing: ",
      "description_tooltip": null,
      "layout": "IPY_MODEL_c8356bb118454b3aa33081db2eecd82d",
      "max": 6,
      "min": 0,
      "orientation": "horizontal",
      "style": "IPY_MODEL_d7c493cfd6f040b8a2e49bfa612b8098",
      "value": 6
     }
    },
    "c8356bb118454b3aa33081db2eecd82d": {
     "model_module": "@jupyter-widgets/base",
     "model_name": "LayoutModel",
     "model_module_version": "1.2.0",
     "state": {
      "_model_module": "@jupyter-widgets/base",
      "_model_module_version": "1.2.0",
      "_model_name": "LayoutModel",
      "_view_count": null,
      "_view_module": "@jupyter-widgets/base",
      "_view_module_version": "1.2.0",
      "_view_name": "LayoutView",
      "align_content": null,
      "align_items": null,
      "align_self": null,
      "border": null,
      "bottom": null,
      "display": null,
      "flex": null,
      "flex_flow": null,
      "grid_area": null,
      "grid_auto_columns": null,
      "grid_auto_flow": null,
      "grid_auto_rows": null,
      "grid_column": null,
      "grid_gap": null,
      "grid_row": null,
      "grid_template_areas": null,
      "grid_template_columns": null,
      "grid_template_rows": null,
      "height": null,
      "justify_content": null,
      "justify_items": null,
      "left": null,
      "margin": null,
      "max_height": null,
      "max_width": null,
      "min_height": null,
      "min_width": null,
      "object_fit": null,
      "object_position": null,
      "order": null,
      "overflow": null,
      "overflow_x": null,
      "overflow_y": null,
      "padding": null,
      "right": null,
      "top": null,
      "visibility": null,
      "width": null
     }
    },
    "d7c493cfd6f040b8a2e49bfa612b8098": {
     "model_module": "@jupyter-widgets/controls",
     "model_name": "ProgressStyleModel",
     "model_module_version": "1.5.0",
     "state": {
      "_model_module": "@jupyter-widgets/controls",
      "_model_module_version": "1.5.0",
      "_model_name": "ProgressStyleModel",
      "_view_count": null,
      "_view_module": "@jupyter-widgets/base",
      "_view_module_version": "1.2.0",
      "_view_name": "StyleView",
      "bar_color": null,
      "description_width": ""
     }
    }
   }
  }
 },
 "nbformat": 4,
 "nbformat_minor": 0
}